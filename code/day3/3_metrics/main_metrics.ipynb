{
 "cells": [
  {
   "cell_type": "code",
   "execution_count": 1,
   "id": "b9f2a34e-b8c2-49bb-9eb4-29c0fe024fcd",
   "metadata": {},
   "outputs": [],
   "source": [
    "import random\n",
    "from itertools import product\n",
    "from math import sqrt\n",
    "from typing import List\n",
    "\n",
    "import matplotlib.pyplot as plt\n",
    "from surprise import SVD, Dataset, Reader\n",
    "from surprise.model_selection import train_test_split\n",
    "\n",
    "\n",
    "import scipy.sparse as sp\n",
    "from sklearn.metrics import confusion_matrix, mean_squared_error\n",
    "from sklearn.metrics.pairwise import cosine_similarity"
   ]
  },
  {
   "cell_type": "code",
   "execution_count": 2,
   "id": "22b8af3e-f948-4ca1-a2a7-8f31e8a3eb7e",
   "metadata": {},
   "outputs": [],
   "source": [
    "import plotly.graph_objects as go\n",
    "import seaborn as sns\n",
    "from funcsigs import signature\n",
    "from matplotlib.lines import Line2D\n",
    "from sklearn.metrics import (auc, average_precision_score,\n",
    "                             precision_recall_curve, roc_curve)\n"
   ]
  },
  {
   "cell_type": "code",
   "execution_count": 3,
   "id": "aacf4b96-3b74-4f19-878f-33fb108b00b3",
   "metadata": {},
   "outputs": [],
   "source": [
    "import pandas as pd\n",
    "import numpy as np"
   ]
  },
  {
   "cell_type": "code",
   "execution_count": 4,
   "id": "fa9843d5-f635-4f67-8b8c-a2bc4d292b6a",
   "metadata": {},
   "outputs": [],
   "source": [
    "import warnings\n",
    "\n",
    "warnings.filterwarnings('ignore')"
   ]
  },
  {
   "cell_type": "code",
   "execution_count": 5,
   "id": "f43be887-e7e8-4a7b-8840-1ffdba0f9adc",
   "metadata": {},
   "outputs": [],
   "source": [
    "def novelty(predicted: List[list], pop: dict, u: int, n: int) -> (float, list):\n",
    "    \"\"\"\n",
    "    Новизна рекомендаций \n",
    "    ----------    \n",
    "    Базируется на статье:\n",
    "    Zhou, T., Kuscsik, Z., Liu, J. G., Medo, M., Wakeling, J. R., & Zhang, Y. C. (2010).\n",
    "    Solving the apparent diversity-accuracy dilemma of recommender systems.\n",
    "    Proceedings of the National Academy of Sciences, 107(10), 4511-4515.\n",
    "    \"\"\"\n",
    "    mean_self_information = []\n",
    "    k = 0\n",
    "    for sublist in predicted:\n",
    "        self_information = 0\n",
    "        k += 1\n",
    "        for i in sublist:\n",
    "            self_information += np.sum(-np.log2(pop[i]/u))\n",
    "        mean_self_information.append(self_information/n)\n",
    "    novelty = sum(mean_self_information)/k\n",
    "    return novelty, mean_self_information\n",
    "\n",
    "def prediction_coverage(predicted: List[list], catalog: list, unseen_warning: bool=False) -> float:\n",
    "    \"\"\"\n",
    "    Покрытие рекомендаций (по пользователю)\n",
    "    \n",
    "    ----------    \n",
    "    Базируется на статье:\n",
    "    Ge, M., Delgado-Battenfeld, C., & Jannach, D. (2010, September).\n",
    "    Beyond accuracy: evaluating recommender systems by coverage and serendipity.\n",
    "    In Proceedings of the fourth ACM conference on Recommender systems (pp. 257-260). ACM.\n",
    "    \"\"\"\n",
    "    \n",
    "    unique_items_catalog = set(catalog)\n",
    "    if len(catalog)!=len(unique_items_catalog):\n",
    "        raise AssertionError(\"Дубликаты в каталоге\")\n",
    "\n",
    "    predicted_flattened = [p for sublist in predicted for p in sublist]\n",
    "    unique_items_pred = set(predicted_flattened)\n",
    "    \n",
    "    if not unique_items_pred.issubset(unique_items_catalog):\n",
    "        if unseen_warning:\n",
    "            warnings.warn(\"В рекомендациях есть элементы не из каталога. \"\n",
    "                \"Игнорируем\")\n",
    "            unique_items_pred = unique_items_pred.intersection(unique_items_catalog)\n",
    "        else:\n",
    "            raise AssertionError(\"В рекомендациях есть элементы не из каталога.\")\n",
    "    \n",
    "    num_unique_predictions = len(unique_items_pred)\n",
    "    prediction_coverage = round(num_unique_predictions/(len(catalog)* 1.0)* 100, 2)\n",
    "    return prediction_coverage\n",
    "\n",
    "def catalog_coverage(predicted: List[list], catalog: list, k: int) -> float:\n",
    "    \"\"\"\n",
    "    Покрытие рекомендаций (по каталогу)\n",
    "    \n",
    "    ----------\n",
    "    Ge, M., Delgado-Battenfeld, C., & Jannach, D. (2010, September).\n",
    "    Beyond accuracy: evaluating recommender systems by coverage and serendipity.\n",
    "    In Proceedings of the fourth ACM conference on Recommender systems (pp. 257-260). ACM.\n",
    "    \"\"\"\n",
    "    sampling = random.choices(predicted, k=k)\n",
    "    predicted_flattened = [p for sublist in sampling for p in sublist]\n",
    "    L_predictions = len(set(predicted_flattened))\n",
    "    catalog_coverage = round(L_predictions/(len(catalog)*1.0)*100,2)\n",
    "    return catalog_coverage\n",
    "\n",
    "def _ark(actual: list, predicted: list, k=10) -> float:\n",
    "    \"\"\"\n",
    "    average recall @ k.\n",
    "   \n",
    "    \"\"\"\n",
    "    if len(predicted)>k:\n",
    "        predicted = predicted[:k]\n",
    "\n",
    "    score = 0.0\n",
    "    num_hits = 0.0\n",
    "\n",
    "    for i,p in enumerate(predicted):\n",
    "        if p in actual and p not in predicted[:i]:\n",
    "            num_hits += 1.0\n",
    "            score += num_hits / (i+1.0)\n",
    "\n",
    "    if not actual:\n",
    "        return 0.0\n",
    "\n",
    "    return score / len(actual)\n",
    "\n",
    "\n",
    "def _apk(actual: list, predicted: list, k=10) -> float:\n",
    "    \"\"\"\n",
    "    average precision @ k.\n",
    "    \n",
    "    \"\"\"\n",
    "    if not predicted or not actual:\n",
    "        return 0.0\n",
    "    \n",
    "    if len(predicted) > k:\n",
    "        predicted = predicted[:k]\n",
    "\n",
    "    score = 0.0\n",
    "    true_positives = 0.0\n",
    "\n",
    "    for i, p in enumerate(predicted):\n",
    "        if p in actual and p not in predicted[:i]:\n",
    "            max_ix = min(i + 1, len(predicted))\n",
    "            score += _precision(predicted[:max_ix], actual)\n",
    "            true_positives += 1\n",
    "    \n",
    "    if score == 0.0:\n",
    "        return 0.0\n",
    "    \n",
    "    return score / true_positives\n",
    "\n",
    "def mark(actual: List[list], predicted: List[list], k=10) -> float:\n",
    "    \"\"\"\n",
    "    mean average recall @ k.\n",
    " \n",
    "    \"\"\"\n",
    "    if len(actual) != len(predicted):\n",
    "        raise AssertionError(\"Length mismatched\")\n",
    "\n",
    "    return np.mean([_ark(a,p,k) for a,p in zip(actual, predicted)])\n",
    "\n",
    "def mapk(actual: List[list], predicted: List[list], k: int=10) -> float:\n",
    "    \"\"\"\n",
    "    mean average precision @ k.\n",
    "    \n",
    "    \"\"\"\n",
    "    if len(actual) != len(predicted):\n",
    "        raise AssertionError(\"Length mismatched\")\n",
    "    \n",
    "    return np.mean([_apk(a,p,k) for a,p in zip(actual, predicted)])\n",
    "\n",
    "def personalization(predicted: List[list]) -> float:\n",
    "    \"\"\"\n",
    "    Расчет персонализации для пользователя\n",
    "    Чем больше, тем лучше, т.к. набор элементов очень разный и на оборот.\n",
    "    \n",
    "    \"\"\"\n",
    "\n",
    "    def make_rec_matrix(predicted: List[list]) -> sp.csr_matrix:\n",
    "        df = pd.DataFrame(data=predicted).reset_index().melt(\n",
    "            id_vars='index', value_name='item',\n",
    "        )\n",
    "        df = df[['index', 'item']].pivot(index='index', columns='item', values='item')\n",
    "        df = pd.notna(df)*1\n",
    "        rec_matrix = sp.csr_matrix(df.values)\n",
    "        return rec_matrix\n",
    "\n",
    "    predicted = np.array(predicted)\n",
    "    rec_matrix_sparse = make_rec_matrix(predicted)\n",
    "\n",
    "    similarity = cosine_similarity(X=rec_matrix_sparse, dense_output=False)\n",
    "\n",
    "\n",
    "    dim = similarity.shape[0]\n",
    "    personalization = (similarity.sum() - dim) / (dim * (dim - 1))\n",
    "    return 1-personalization\n",
    "\n",
    "def _single_list_similarity(predicted: list, feature_df: pd.DataFrame, u: int) -> float:\n",
    "    \"\"\"\n",
    "    Вычисление вложенного списка схожести\n",
    "\n",
    "    \"\"\"\n",
    "    if not(predicted):\n",
    "        raise Exception('Predicted list is empty, index: {0}'.format(u))\n",
    "\n",
    "\n",
    "    recs_content = feature_df.loc[predicted]\n",
    "    recs_content = recs_content.dropna()\n",
    "    recs_content = sp.csr_matrix(recs_content.values)\n",
    "\n",
    "    similarity = cosine_similarity(X=recs_content, dense_output=False)\n",
    "\n",
    "\n",
    "    upper_right = np.triu_indices(similarity.shape[0], k=1)\n",
    "\n",
    "    ils_single_user = np.mean(similarity[upper_right])\n",
    "    return ils_single_user\n",
    "\n",
    "def intra_list_similarity(predicted: List[list], feature_df: pd.DataFrame) -> float:\n",
    "    \"\"\"\n",
    "    Среднее значение по вложенному списку схожести\n",
    "    \n",
    "    \"\"\"\n",
    "    feature_df = feature_df.fillna(0)\n",
    "    Users = range(len(predicted))\n",
    "    ils = [_single_list_similarity(predicted[u], feature_df, u) for u in Users]\n",
    "    return np.mean(ils)\n",
    "\n",
    "def mse(y: list, yhat: np.array) -> float:\n",
    "\n",
    "    mse = mean_squared_error(y, yhat)\n",
    "    return mse\n",
    "\n",
    "def rmse(y: list, yhat: np.array) -> float:\n",
    "    \n",
    "    rmse = sqrt(mean_squared_error(y, yhat))\n",
    "    return rmse\n",
    "\n",
    "def make_confusion_matrix(y: list, yhat: list) -> None:\n",
    "\n",
    "    cm = confusion_matrix(y, yhat, labels=[1,0])\n",
    "    cm = np.round(cm.astype('float') / cm.sum(axis=1)[:, np.newaxis],4)*100\n",
    "\n",
    "    fmt = \".2f\"\n",
    "    _ = cm.max() / 2. # TODO: Unused argument\n",
    "    descriptions = np.array([[\"True Positive\", \"False Negative\"], [\"False Positive\", \"True Negatives\"]])\n",
    "    colors = np.array([[\"green\", \"red\"], [\"red\", \"green\"]])\n",
    "    plt.imshow([[0,0],[0,0]], interpolation='nearest', cmap=plt.cm.Greys)\n",
    "    for i, j in product(range(cm.shape[0]), range(cm.shape[1])):\n",
    "            plt.text(j, i, format(cm[i, j], fmt)+'%\\n' + descriptions[i, j],\n",
    "                     horizontalalignment=\"center\",\n",
    "                     color=colors[i,j])\n",
    "    plt.axhline(y=0.5, xmin=0, xmax=1, color=\"black\", linewidth=0.75)\n",
    "    plt.axvline(x=0.5, ymin=0, ymax=1, color=\"black\", linewidth=0.75)\n",
    "    plt.ylabel('True')\n",
    "    plt.xlabel('Predicted')\n",
    "    plt.title(\"Confusion Matrix\")\n",
    "    plt.xticks([0,1], [1,0], rotation=45)\n",
    "    plt.yticks([0,1], [1,0])\n",
    "    plt.show()\n",
    "\n",
    "def _precision(predicted, actual):\n",
    "    prec = [value for value in predicted if value in actual]\n",
    "    prec = float(len(prec)) / float(len(predicted))\n",
    "    return prec\n",
    "\n",
    "def recommender_precision(predicted: List[list], actual: List[list]) -> int:\n",
    "\n",
    "    precision = np.mean(list(map(lambda x, y: np.round(_precision(x,y), 4), predicted, actual)))\n",
    "    return precision\n",
    "\n",
    "\n",
    "def recommender_recall(predicted: List[list], actual: List[list]) -> int:\n",
    "\n",
    "    def calc_recall(predicted, actual):\n",
    "        reca = [value for value in predicted if value in actual]\n",
    "        reca = np.round(float(len(reca)) / float(len(actual)), 4)\n",
    "        return reca\n",
    "\n",
    "    recall = np.mean(list(map(calc_recall, predicted, actual)))\n",
    "    return recall"
   ]
  },
  {
   "cell_type": "code",
   "execution_count": 6,
   "id": "eb40cbdd-ebe6-466d-94b7-e436bd054241",
   "metadata": {},
   "outputs": [],
   "source": [
    "def long_tail_plot(df, item_id_column, interaction_type, percentage=None, x_labels=True):\n",
    "    \"\"\"\n",
    "    Plots the long tail for a user-item interaction dataset.\n",
    "    ----------\n",
    "    df: pandas dataframe\n",
    "        user-item interaction dataframe\n",
    "        example:\n",
    "    item_id_column: str\n",
    "        column name identifying the item ids in the dataframe\n",
    "    interaction_type: str\n",
    "        type of user-item interactions\n",
    "        i.e. 'purchases', 'ratings' 'interactions', or 'clicks'\n",
    "    percentage: float, default=None\n",
    "        percent of volume to consider as the head (percent as a decimal)\n",
    "        (if default=None no line will be plotted)\n",
    "    x_tables bool, default=True\n",
    "        if True, plot x-axis tick labels\n",
    "        if False, no x-axis tick lavels will be plotted.\n",
    "    Returns:\n",
    "    -------\n",
    "        A long tail plot\n",
    "    \"\"\"\n",
    "    #calculate cumulative volumes\n",
    "    volume_df = df[item_id_column].value_counts().reset_index()\n",
    "    volume_df.columns = [item_id_column, \"volume\"]\n",
    "    volume_df[item_id_column] = volume_df[item_id_column].astype(str)\n",
    "    volume_df['cumulative_volume'] = volume_df['volume'].cumsum()\n",
    "    volume_df['percent_of_total_volume'] = volume_df['cumulative_volume']/volume_df['volume'].sum()\n",
    "\n",
    "    #line plot of cumulative volume\n",
    "    x=range(0,len(volume_df))\n",
    "    ax = sns.lineplot(x, y=\"volume\", data=volume_df, color=\"black\")\n",
    "    plt.xticks(x)\n",
    "\n",
    "    #set labels\n",
    "    ax.set_title('Long Tail Plot')\n",
    "    ax.set_ylabel('# of ' + interaction_type)\n",
    "    ax.set_xlabel(item_id_column)\n",
    "\n",
    "    if percentage != None:\n",
    "        #plot vertical line at the tail location\n",
    "        head = volume_df[volume_df[\"percent_of_total_volume\"] <= percentage]\n",
    "        tail = volume_df[volume_df[\"percent_of_total_volume\"] > percentage]\n",
    "        items_in_head = len(head)\n",
    "        items_in_tail = len(tail)\n",
    "        plt.axvline(x=items_in_head, color=\"red\",  linestyle='--')\n",
    "\n",
    "        # fill area under plot\n",
    "        head = head.append(tail.head(1))\n",
    "        x1 = head.index.values\n",
    "        y1 = head['volume']\n",
    "        x2 = tail.index.values\n",
    "        y2 = tail['volume']\n",
    "        ax.fill_between(x1, y1, color=\"blue\", alpha=0.2)\n",
    "        ax.fill_between(x2, y2,  color=\"orange\", alpha=0.2)\n",
    "\n",
    "        #create legend\n",
    "        legend_elements = [Line2D([0], [0], marker='o', color='w', label=str(items_in_head)+': items in the head', markerfacecolor='blue', markersize=5),\n",
    "                           Line2D([0], [0], marker='o', color='w', label=str(items_in_tail)+': items in the tail', markerfacecolor='orange', markersize=5)]\n",
    "        ax.legend(handles=legend_elements, loc=1)\n",
    "\n",
    "    else:\n",
    "        x1 = volume_df[item_id_column]\n",
    "        y1 = volume_df['volume']\n",
    "        ax.fill_between(x1, y1, color=\"blue\", alpha=0.3)\n",
    "    if x_labels == False:\n",
    "        plt.xticks([], [])\n",
    "        ax.set(xticklabels=[])\n",
    "    else:\n",
    "        ax.set_xticklabels(labels = volume_df[item_id_column], rotation = 45, ha=\"right\")\n",
    "\n",
    "    plt.show()\n",
    "\n",
    "\n",
    "def coverage_plot(coverage_scores: list, model_names: list) -> None:\n",
    "    \"\"\"\n",
    "    Plots the coverage for a set of models to compare.\n",
    "    ----------\n",
    "    coverage_scores: list\n",
    "        list of coverage scores in same order as model_names\n",
    "        example: [0.17, 0.25, 0.76]\n",
    "    model_names: list\n",
    "        list of model names in same order as coverage_scores\n",
    "        example: ['Model A', 'Model B', 'Model C']\n",
    "    Returns:\n",
    "    -------\n",
    "        A coverage plot\n",
    "    \"\"\"\n",
    "    #create palette\n",
    "    #recommender_palette = [\"#ED2BFF\", \"#14E2C0\", \"#FF9F1C\", \"#5E2BFF\",\"#FC5FA3\"]\n",
    "    #sns.set_palette(recommender_palette)\n",
    "\n",
    "    #make barplot\n",
    "    ax = sns.barplot(x=model_names, y=coverage_scores)\n",
    "\n",
    "    #set labels\n",
    "    ax.set_title('Catalog Coverage in %')\n",
    "    ax.set_ylabel('coverage')\n",
    "\n",
    "    plt.show()\n",
    "\n",
    "def personalization_plot(personalization_scores: list, model_names: list) -> None:\n",
    "    \"\"\"\n",
    "    Plots the personalization for a set of models to compare.\n",
    "    ----------\n",
    "    personalization_scores: list\n",
    "        list of personalization scores in same order as model_names\n",
    "        example: [0.13, 0.52, 0.36]\n",
    "    model_names: list\n",
    "        list of model names in same order as coverage_scores\n",
    "        example: ['Model A', 'Model B', 'Model C']\n",
    "    Returns:\n",
    "    -------\n",
    "        A personalization plot\n",
    "    \"\"\"\n",
    "    #create palette\n",
    "    #recommender_palette = [\"#ED2BFF\", \"#14E2C0\", \"#FF9F1C\", \"#5E2BFF\",\"#FC5FA3\"]\n",
    "    #sns.set_palette(recommender_palette)\n",
    "\n",
    "    #make barplot\n",
    "    ax = sns.barplot(x=model_names, y=personalization_scores)\n",
    "\n",
    "    #set labels\n",
    "    ax.set_title(\"Personalization in %\")\n",
    "    ax.set_ylabel(\"personalization\")\n",
    "\n",
    "    plt.show()\n",
    "\n",
    "def intra_list_similarity_plot(intra_list_similarity_scores, model_names):\n",
    "    \"\"\"\n",
    "    Plots the intra-list similarity for a set of models to compare.\n",
    "    ----------\n",
    "    intra_list_similarity_scores: list\n",
    "        list of intra-list similarity scores in same order as model_names\n",
    "        example: [0.13, 0.52, 0.36]\n",
    "    model_names: list\n",
    "        list of model names in same order as coverage_scores\n",
    "        example: ['Model A', 'Model B', 'Model C']\n",
    "    Returns:\n",
    "    -------\n",
    "        A intra-list similarity plot\n",
    "    \"\"\"\n",
    "    #create palette\n",
    "    #recommender_palette = [\"#ED2BFF\", \"#14E2C0\", \"#FF9F1C\", \"#5E2BFF\",\"#FC5FA3\"]\n",
    "    #sns.set_palette(recommender_palette)\n",
    "\n",
    "    #make barplot\n",
    "    ax = sns.barplot(x=model_names, y=intra_list_similarity_scores)\n",
    "\n",
    "    #set labels\n",
    "    ax.set_title(\"Similarity in %\")\n",
    "    ax.set_ylabel(\"similarity in %\")\n",
    "\n",
    "    plt.show()\n",
    "\n",
    "def mark_plot(mark_scores, model_names, k_range):\n",
    "    \"\"\"\n",
    "    Plots the mean average recall at k for a set of models to compare.\n",
    "    ----------\n",
    "    mark_scores: list of lists\n",
    "        list of list of mar@k scores over k. This list is in same order as model_names\n",
    "        example: [[0.17, 0.25, 0.76],[0.2, 0.5, 0.74]]\n",
    "    model_names: list\n",
    "        list of model names in same order as coverage_scores\n",
    "        example: ['Model A', 'Model B']\n",
    "    k_range: list\n",
    "        list or array indeitifying all k values in order\n",
    "        example: [1,2,3,4,5,6,7,8,9,10]\n",
    "    Returns:\n",
    "    -------\n",
    "        A mar@k plot\n",
    "    \"\"\"\n",
    "    #create palette\n",
    "    #recommender_palette = [\"#ED2BFF\", \"#14E2C0\", \"#FF9F1C\", \"#5E2BFF\",\"#FC5FA3\"]\n",
    "    #sns.set_palette(recommender_palette)\n",
    "\n",
    "    #lineplot\n",
    "    mark_df = pd.DataFrame(np.column_stack(mark_scores), k_range, columns=model_names)\n",
    "    ax = sns.lineplot(data=mark_df)\n",
    "    plt.xticks(k_range)\n",
    "    plt.setp(ax.lines,linewidth=5)\n",
    "\n",
    "    #set labels\n",
    "    ax.set_title('Mean Average Recall at K (MAR@K) Comparison')\n",
    "    ax.set_ylabel('MAR@K')\n",
    "    ax.set_xlabel('K')\n",
    "\n",
    "    plt.show()\n",
    "\n",
    "\n",
    "def mapk_plot(mapk_scores, model_names, k_range):\n",
    "    \"\"\"\n",
    "    Plots the mean average precision at k for a set of models to compare.\n",
    "    ----------\n",
    "    mapk_scores: list of lists\n",
    "        list of list of map@k scores over k. This lis is in same order as model_names\n",
    "        example: [[0.17, 0.25, 0.76],[0.2, 0.5, 0.74]]\n",
    "    model_names: list\n",
    "        list of model names in same order as coverage_scores\n",
    "        example: ['Model A', 'Model B']\n",
    "    k_range: list\n",
    "        list or array indeitifying all k values in order\n",
    "        example: [1,2,3,4,5,6,7,8,9,10]\n",
    "    Returns:\n",
    "    -------\n",
    "        A map@k plot\n",
    "    \"\"\"\n",
    "    #create palette\n",
    "    #recommender_palette = [\"#ED2BFF\", \"#14E2C0\", \"#FF9F1C\", \"#5E2BFF\",\"#FC5FA3\"]\n",
    "    #sns.set_palette(recommender_palette)\n",
    "\n",
    "    #lineplot\n",
    "    mapk_df = pd.DataFrame(np.column_stack(mapk_scores), k_range, columns=model_names)\n",
    "    ax = sns.lineplot(data=mapk_df)\n",
    "    plt.xticks(k_range)\n",
    "    plt.setp(ax.lines,linewidth=5)\n",
    "\n",
    "    #set labels\n",
    "    ax.set_title('Mean Average Precision at K (MAP@K) Comparison')\n",
    "    ax.set_ylabel('MAP@K')\n",
    "    ax.set_xlabel('K')\n",
    "    plt.show()\n",
    "\n",
    "\n",
    "\n",
    "def class_separation_plot(pred_df, n_bins=150, threshold=None, figsize=(10,6), title=None):\n",
    "    \"\"\"\n",
    "    Plots the predicted class probabilities for multiple classes.\n",
    "    Usefull for visualizing predicted interaction values such as 5 star ratings, where a \"class\" is a star rating,\n",
    "    or visualizing predicted class probabilities for binary classification model or recommender system.\n",
    "    The true class states are colored.\n",
    "    ----------\n",
    "    pred_df: pandas dataframe\n",
    "        a dataframe containing a column of predicted interaction values or classification probabilites,\n",
    "        and a column of true class 1 and class 0 states.\n",
    "        This dataframe must contain columns named \"predicted\" and \"truth\"\n",
    "        example:\n",
    "        \tpredicted | truth\n",
    "        \t5.345345\t|  5\n",
    "        \t2.072020\t|  2\n",
    "    n_bins: number of bins for histogram.\n",
    "    threshold: float. default = 0.5\n",
    "        A single number between 0 and 1 identifying the threshold to classify observations to class\n",
    "        example: 0.5\n",
    "    figsize: size of figure\n",
    "    title: plot title\n",
    "    Returns:\n",
    "    -------\n",
    "        A classification probability plot\n",
    "    \"\"\"\n",
    "    #recommender_palette = [\"#ED2BFF\", \"#14E2C0\", \"#FF9F1C\", \"#5E2BFF\", \"#FC5FA3\"]\n",
    "    classes = pred_df.truth.unique()\n",
    "    plt.figure(figsize=figsize)\n",
    "    for i in range(len(classes)):\n",
    "        single_class = classes[i]\n",
    "        sns.distplot( pred_df.query(\"truth == @single_class\")[\"predicted\"] , bins=n_bins,  label=\"True {}\".format(single_class)) #color=recommender_palette[i],\n",
    "    plt.legend()\n",
    "    if threshold == None: pass\n",
    "    else: plt.axvline(threshold, color=\"black\", linestyle='--')\n",
    "    plt.xlabel(\"Predicted value\")\n",
    "    plt.ylabel(\"Frequency\")\n",
    "    if title == None: plt.title(\" \")\n",
    "    else: plt.title(title)\n",
    "    plt.show()\n",
    "\n",
    "\n",
    "def roc_plot(actual, model_probs, model_names, figsize=(10,10)):\n",
    "    \"\"\"\n",
    "    Receiver Operating Characteristic Plot. Can plot multiple models.\n",
    "    ----------\n",
    "    actual: array of dataframe of true classes assignements.\n",
    "        example:\n",
    "        [1,1,0,1,0]\n",
    "    model_probs: list of arrays\n",
    "        a list containing classification probabilites for each model in order.\n",
    "        example:\n",
    "        model_probs = [class_probs_1, class_probs_2]\n",
    "    model_names: list of strings\n",
    "        a list containing names for each model in order.\n",
    "        example:\n",
    "        model_names = [\"GBT\", \"Logistic Regression\"]\n",
    "    figsize: size of figure\n",
    "    Returns:\n",
    "    -------\n",
    "        Receiver Operating Characteristic Plot with AUC in the legend.\n",
    "    \"\"\"\n",
    "    model_names = make_listy(model_names)\n",
    "    if not is_listy(model_probs): model_probs = [model_probs]\n",
    "\n",
    "    if len(model_names) > 5:\n",
    "        return ValueError(\"Can only compare 5 models or less.\")\n",
    "\n",
    "    colors = [\"#ED2BFF\", \"#14E2C0\", \"#FF9F1C\", \"#5E2BFF\",\"#FC5FA3\"]\n",
    "\n",
    "    for m in range(len(model_names)):\n",
    "        fpr, tpr, _ = roc_curve(actual, model_probs[m])\n",
    "        roc_auc = auc(fpr, tpr)\n",
    "        ax = sns.lineplot(x=fpr,\n",
    "                          y=tpr,\n",
    "                          lw=2,\n",
    "                          color=colors[m],\n",
    "                          label = model_names[m] + ' AUC = %0.4f' % roc_auc)\n",
    "    \n",
    "    ax.plot([0, 1], [0, 1], 'r--')\n",
    "    ax.set_title('Receiver Operating Characteristic Plot')\n",
    "    ax.set_ylabel('True Positive Rate')\n",
    "    ax.set_xlabel('False Positive Rate')\n",
    "    \n",
    "    plt.show()\n",
    "\n",
    "\n",
    "def precision_recall_plot(targs, preds, figsize=(6,6)):\n",
    "    \"\"\"\n",
    "    Plots the precision recall curve\n",
    "    ----------\n",
    "    targs: array-like true class labels\n",
    "    preds: array-like predicted probabilities\n",
    "    figsize: size of figure\n",
    "    Returns:\n",
    "    -------\n",
    "        A precision and recall curve\n",
    "    \"\"\"\n",
    "    average_precision = average_precision_score(targs, preds)\n",
    "    precision, recall, _ = precision_recall_curve(targs, preds)\n",
    "    plt.figure(figsize=figsize)\n",
    "    step_kwargs = ({'step': 'post'}\n",
    "                   if 'step' in signature(plt.fill_between).parameters\n",
    "                   else {})\n",
    "    plt.step(recall, precision, color='b', alpha=0.2,\n",
    "             where='post')\n",
    "    plt.fill_between(recall, precision, alpha=0.2, color='b', **step_kwargs)\n",
    "\n",
    "    plt.xlabel('Recall')\n",
    "    plt.ylabel('Precision')\n",
    "    plt.ylim([0.0, 1.05])\n",
    "    plt.xlim([0.0, 1.0])\n",
    "    plt.title('2-class Precision-Recall curve: AP={0:0.2f}'.format(\n",
    "        average_precision))\n",
    "    plt.show()\n",
    "\n",
    "\n",
    "def make_listy(p):\n",
    "    if isinstance(p, str): return [p]\n",
    "    try:\n",
    "        _ = iter(p)\n",
    "    except TypeError:\n",
    "        p = [p]\n",
    "    return p\n",
    "\n",
    "\n",
    "def is_listy(x): return isinstance(x, (tuple,list))\n",
    "\n",
    "def metrics_plot(model_names, coverage_scores, personalization_scores, intra_list_similarity_scores):\n",
    "\n",
    "    \"\"\"\n",
    "    Plots the coverage, personalization and intra-list similarity for a set of models to compare.\n",
    "    ----------\n",
    "    model_names: list\n",
    "        list of model names in same order as coverage_scores\n",
    "        example: ['Model A', 'Model B', 'Model C']\n",
    "    coverage_scores: list\n",
    "        list of scores in same order as model_names\n",
    "        example: [0.17, 0.25, 0.76]\n",
    "    personalization_scores: list\n",
    "        list of scores in same order as model_names\n",
    "        example: [0.43, 0.23, 0.44]\n",
    "    intra_list_similarity: list\n",
    "        list of scores in same order as model_names\n",
    "        example: [0.23, 0.21, 0.69]\n",
    "    Returns:\n",
    "    -------\n",
    "        An interactive metrics plot\n",
    "    \"\"\"\n",
    "\n",
    "    fig = go.Figure()\n",
    "\n",
    "    for model_name, coverage, personalization, intra_list_similarity in zip(model_names, coverage_scores, personalization_scores, intra_list_similarity_scores):\n",
    "        fig.add_trace(go.Scatterpolar(\n",
    "              r=[coverage, personalization * 100, intra_list_similarity * 100],\n",
    "              theta=['coverage','personalization','intra list similarity'],\n",
    "              fill='tonext',\n",
    "              name=model_name\n",
    "        ))\n",
    "\n",
    "    fig.update_layout(\n",
    "      polar=dict(\n",
    "        radialaxis=dict(\n",
    "          visible=True,\n",
    "          range=[0, 100]\n",
    "        )),\n",
    "      showlegend=True\n",
    "    )\n",
    "\n",
    "    fig.show()"
   ]
  },
  {
   "cell_type": "markdown",
   "id": "f3fd0b30-b537-452f-9bc1-b6c65d49f3e1",
   "metadata": {},
   "source": [
    "### Загрузка данных"
   ]
  },
  {
   "cell_type": "code",
   "execution_count": 9,
   "id": "aa60061f-a441-4019-86e1-4064bcde1c21",
   "metadata": {},
   "outputs": [],
   "source": [
    "ratings = pd.read_csv('ratings.csv')\n",
    "ratings = ratings.query('rating >=3')\n",
    "ratings.reset_index(drop=True, inplace=True)"
   ]
  },
  {
   "cell_type": "code",
   "execution_count": 11,
   "id": "4048cdc8-3d0e-4f1b-8626-e47f555cb876",
   "metadata": {},
   "outputs": [
    {
     "name": "stdout",
     "output_type": "stream",
     "text": [
      "(62692, 4)\n"
     ]
    },
    {
     "data": {
      "text/html": [
       "<div>\n",
       "<style scoped>\n",
       "    .dataframe tbody tr th:only-of-type {\n",
       "        vertical-align: middle;\n",
       "    }\n",
       "\n",
       "    .dataframe tbody tr th {\n",
       "        vertical-align: top;\n",
       "    }\n",
       "\n",
       "    .dataframe thead th {\n",
       "        text-align: right;\n",
       "    }\n",
       "</style>\n",
       "<table border=\"1\" class=\"dataframe\">\n",
       "  <thead>\n",
       "    <tr style=\"text-align: right;\">\n",
       "      <th></th>\n",
       "      <th>userId</th>\n",
       "      <th>movieId</th>\n",
       "      <th>rating</th>\n",
       "      <th>timestamp</th>\n",
       "    </tr>\n",
       "  </thead>\n",
       "  <tbody>\n",
       "    <tr>\n",
       "      <th>125</th>\n",
       "      <td>4</td>\n",
       "      <td>10</td>\n",
       "      <td>4.0</td>\n",
       "      <td>949810645</td>\n",
       "    </tr>\n",
       "    <tr>\n",
       "      <th>126</th>\n",
       "      <td>4</td>\n",
       "      <td>34</td>\n",
       "      <td>5.0</td>\n",
       "      <td>949919556</td>\n",
       "    </tr>\n",
       "    <tr>\n",
       "      <th>127</th>\n",
       "      <td>4</td>\n",
       "      <td>112</td>\n",
       "      <td>5.0</td>\n",
       "      <td>949810582</td>\n",
       "    </tr>\n",
       "  </tbody>\n",
       "</table>\n",
       "</div>"
      ],
      "text/plain": [
       "     userId  movieId  rating  timestamp\n",
       "125       4       10     4.0  949810645\n",
       "126       4       34     5.0  949919556\n",
       "127       4      112     5.0  949810582"
      ]
     },
     "execution_count": 11,
     "metadata": {},
     "output_type": "execute_result"
    }
   ],
   "source": [
    "# только больше 10 рейтингов\n",
    "n=100\n",
    "users = ratings[\"userId\"].value_counts()\n",
    "users = users[users>n].index.tolist()\n",
    "\n",
    "ratings = ratings.query('userId in @users')\n",
    "print(ratings.shape)\n",
    "ratings.head(3)"
   ]
  },
  {
   "cell_type": "markdown",
   "id": "e5a66e23-f15a-44ce-b2f5-a1bb9fca7422",
   "metadata": {},
   "source": [
    "### Фичи по проекту"
   ]
  },
  {
   "cell_type": "code",
   "execution_count": 13,
   "id": "41c10f74-9af2-4586-bda9-a79e7f5ab0bb",
   "metadata": {},
   "outputs": [
    {
     "data": {
      "text/html": [
       "<div>\n",
       "<style scoped>\n",
       "    .dataframe tbody tr th:only-of-type {\n",
       "        vertical-align: middle;\n",
       "    }\n",
       "\n",
       "    .dataframe tbody tr th {\n",
       "        vertical-align: top;\n",
       "    }\n",
       "\n",
       "    .dataframe thead th {\n",
       "        text-align: right;\n",
       "    }\n",
       "</style>\n",
       "<table border=\"1\" class=\"dataframe\">\n",
       "  <thead>\n",
       "    <tr style=\"text-align: right;\">\n",
       "      <th></th>\n",
       "      <th>(no genres listed)</th>\n",
       "      <th>Action</th>\n",
       "      <th>Adventure</th>\n",
       "      <th>Animation</th>\n",
       "      <th>Children</th>\n",
       "      <th>Comedy</th>\n",
       "      <th>Crime</th>\n",
       "      <th>Documentary</th>\n",
       "      <th>Drama</th>\n",
       "      <th>Fantasy</th>\n",
       "      <th>Film-Noir</th>\n",
       "      <th>Horror</th>\n",
       "      <th>Musical</th>\n",
       "      <th>Mystery</th>\n",
       "      <th>Romance</th>\n",
       "      <th>Sci-Fi</th>\n",
       "      <th>Thriller</th>\n",
       "      <th>War</th>\n",
       "      <th>Western</th>\n",
       "    </tr>\n",
       "    <tr>\n",
       "      <th>movieId</th>\n",
       "      <th></th>\n",
       "      <th></th>\n",
       "      <th></th>\n",
       "      <th></th>\n",
       "      <th></th>\n",
       "      <th></th>\n",
       "      <th></th>\n",
       "      <th></th>\n",
       "      <th></th>\n",
       "      <th></th>\n",
       "      <th></th>\n",
       "      <th></th>\n",
       "      <th></th>\n",
       "      <th></th>\n",
       "      <th></th>\n",
       "      <th></th>\n",
       "      <th></th>\n",
       "      <th></th>\n",
       "      <th></th>\n",
       "    </tr>\n",
       "  </thead>\n",
       "  <tbody>\n",
       "    <tr>\n",
       "      <th>1</th>\n",
       "      <td>0</td>\n",
       "      <td>0</td>\n",
       "      <td>1</td>\n",
       "      <td>0</td>\n",
       "      <td>0</td>\n",
       "      <td>0</td>\n",
       "      <td>0</td>\n",
       "      <td>0</td>\n",
       "      <td>0</td>\n",
       "      <td>0</td>\n",
       "      <td>0</td>\n",
       "      <td>0</td>\n",
       "      <td>0</td>\n",
       "      <td>0</td>\n",
       "      <td>0</td>\n",
       "      <td>0</td>\n",
       "      <td>0</td>\n",
       "      <td>0</td>\n",
       "      <td>0</td>\n",
       "    </tr>\n",
       "    <tr>\n",
       "      <th>2</th>\n",
       "      <td>0</td>\n",
       "      <td>0</td>\n",
       "      <td>1</td>\n",
       "      <td>0</td>\n",
       "      <td>0</td>\n",
       "      <td>0</td>\n",
       "      <td>0</td>\n",
       "      <td>0</td>\n",
       "      <td>0</td>\n",
       "      <td>0</td>\n",
       "      <td>0</td>\n",
       "      <td>0</td>\n",
       "      <td>0</td>\n",
       "      <td>0</td>\n",
       "      <td>0</td>\n",
       "      <td>0</td>\n",
       "      <td>0</td>\n",
       "      <td>0</td>\n",
       "      <td>0</td>\n",
       "    </tr>\n",
       "    <tr>\n",
       "      <th>3</th>\n",
       "      <td>0</td>\n",
       "      <td>0</td>\n",
       "      <td>0</td>\n",
       "      <td>0</td>\n",
       "      <td>0</td>\n",
       "      <td>1</td>\n",
       "      <td>0</td>\n",
       "      <td>0</td>\n",
       "      <td>0</td>\n",
       "      <td>0</td>\n",
       "      <td>0</td>\n",
       "      <td>0</td>\n",
       "      <td>0</td>\n",
       "      <td>0</td>\n",
       "      <td>0</td>\n",
       "      <td>0</td>\n",
       "      <td>0</td>\n",
       "      <td>0</td>\n",
       "      <td>0</td>\n",
       "    </tr>\n",
       "    <tr>\n",
       "      <th>4</th>\n",
       "      <td>0</td>\n",
       "      <td>0</td>\n",
       "      <td>0</td>\n",
       "      <td>0</td>\n",
       "      <td>0</td>\n",
       "      <td>1</td>\n",
       "      <td>0</td>\n",
       "      <td>0</td>\n",
       "      <td>0</td>\n",
       "      <td>0</td>\n",
       "      <td>0</td>\n",
       "      <td>0</td>\n",
       "      <td>0</td>\n",
       "      <td>0</td>\n",
       "      <td>0</td>\n",
       "      <td>0</td>\n",
       "      <td>0</td>\n",
       "      <td>0</td>\n",
       "      <td>0</td>\n",
       "    </tr>\n",
       "    <tr>\n",
       "      <th>5</th>\n",
       "      <td>0</td>\n",
       "      <td>0</td>\n",
       "      <td>0</td>\n",
       "      <td>0</td>\n",
       "      <td>0</td>\n",
       "      <td>1</td>\n",
       "      <td>0</td>\n",
       "      <td>0</td>\n",
       "      <td>0</td>\n",
       "      <td>0</td>\n",
       "      <td>0</td>\n",
       "      <td>0</td>\n",
       "      <td>0</td>\n",
       "      <td>0</td>\n",
       "      <td>0</td>\n",
       "      <td>0</td>\n",
       "      <td>0</td>\n",
       "      <td>0</td>\n",
       "      <td>0</td>\n",
       "    </tr>\n",
       "  </tbody>\n",
       "</table>\n",
       "</div>"
      ],
      "text/plain": [
       "         (no genres listed)  Action  Adventure  Animation  Children  Comedy  \\\n",
       "movieId                                                                       \n",
       "1                         0       0          1          0         0       0   \n",
       "2                         0       0          1          0         0       0   \n",
       "3                         0       0          0          0         0       1   \n",
       "4                         0       0          0          0         0       1   \n",
       "5                         0       0          0          0         0       1   \n",
       "\n",
       "         Crime  Documentary  Drama  Fantasy  Film-Noir  Horror  Musical  \\\n",
       "movieId                                                                   \n",
       "1            0            0      0        0          0       0        0   \n",
       "2            0            0      0        0          0       0        0   \n",
       "3            0            0      0        0          0       0        0   \n",
       "4            0            0      0        0          0       0        0   \n",
       "5            0            0      0        0          0       0        0   \n",
       "\n",
       "         Mystery  Romance  Sci-Fi  Thriller  War  Western  \n",
       "movieId                                                    \n",
       "1              0        0       0         0    0        0  \n",
       "2              0        0       0         0    0        0  \n",
       "3              0        0       0         0    0        0  \n",
       "4              0        0       0         0    0        0  \n",
       "5              0        0       0         0    0        0  "
      ]
     },
     "execution_count": 13,
     "metadata": {},
     "output_type": "execute_result"
    }
   ],
   "source": [
    "rated_movies = ratings[\"movieId\"].tolist()\n",
    "\n",
    "# получить фичи по по фильмам\n",
    "movies = pd.read_csv('movies.csv')\n",
    "movies = movies.query('movieId in @rated_movies')\n",
    "movies.set_index(\"movieId\", inplace=True, drop=True)\n",
    "\n",
    "# разбивка жанров \n",
    "movies = movies[\"genres\"].str.split(\"|\", expand=True)\n",
    "movies.reset_index(inplace=True)\n",
    "movies = pd.melt(movies, id_vars='movieId', value_vars=[0, 1, 2, 3, 4, 5, 6, 7, 8, 9 ])\n",
    "movies.drop_duplicates(\"movieId\", inplace=True)\n",
    "movies.set_index('movieId', inplace=True)\n",
    "\n",
    "# создаем единую таблицу\n",
    "movies = pd.get_dummies(movies.value)\n",
    "movies.head()"
   ]
  },
  {
   "cell_type": "markdown",
   "id": "9c58f849-1b26-49b2-b379-0e7e4081ea39",
   "metadata": {},
   "source": [
    "### Обзор распределения рейтингов"
   ]
  },
  {
   "cell_type": "code",
   "execution_count": 14,
   "id": "28f4a07f-460a-4153-a342-891fa0f01981",
   "metadata": {},
   "outputs": [
    {
     "data": {
      "image/png": "[encoded data removed]",
      "text/plain": [
       "<Figure size 1080x504 with 1 Axes>"
      ]
     },
     "metadata": {
      "needs_background": "light"
     },
     "output_type": "display_data"
    }
   ],
   "source": [
    "fig = plt.figure(figsize=(15, 7))\n",
    "long_tail_plot(df=ratings, \n",
    "             item_id_column=\"movieId\", \n",
    "             interaction_type=\"movie ratings\", \n",
    "             percentage=0.5,\n",
    "             x_labels=False)"
   ]
  },
  {
   "cell_type": "code",
   "execution_count": null,
   "id": "2acf4184-c40f-432f-b90c-c1a9091df81c",
   "metadata": {},
   "outputs": [],
   "source": [
    "### CF рекомендатор"
   ]
  },
  {
   "cell_type": "code",
   "execution_count": 15,
   "id": "bcffd2a6-165e-434b-aca3-bb091bb400e3",
   "metadata": {},
   "outputs": [],
   "source": [
    "reader = Reader(rating_scale=(0, 5))\n",
    "data = Dataset.load_from_df(ratings[['userId', 'movieId', 'rating']], reader)\n",
    "trainset, testset = train_test_split(data, test_size=0.25)"
   ]
  },
  {
   "cell_type": "code",
   "execution_count": 16,
   "id": "0d2530fd-e21c-48ba-8dc4-4335bdc5dcde",
   "metadata": {},
   "outputs": [
    {
     "data": {
      "text/plain": [
       "<surprise.prediction_algorithms.matrix_factorization.SVD at 0x25a286953a0>"
      ]
     },
     "execution_count": 16,
     "metadata": {},
     "output_type": "execute_result"
    }
   ],
   "source": [
    "algo = SVD()\n",
    "algo.fit(trainset)"
   ]
  },
  {
   "cell_type": "code",
   "execution_count": 17,
   "id": "ee0fc47d-98d2-45f5-9cad-fbd166cf7317",
   "metadata": {},
   "outputs": [
    {
     "data": {
      "text/html": [
       "<div>\n",
       "<style scoped>\n",
       "    .dataframe tbody tr th:only-of-type {\n",
       "        vertical-align: middle;\n",
       "    }\n",
       "\n",
       "    .dataframe tbody tr th {\n",
       "        vertical-align: top;\n",
       "    }\n",
       "\n",
       "    .dataframe thead th {\n",
       "        text-align: right;\n",
       "    }\n",
       "</style>\n",
       "<table border=\"1\" class=\"dataframe\">\n",
       "  <thead>\n",
       "    <tr style=\"text-align: right;\">\n",
       "      <th></th>\n",
       "      <th>userId</th>\n",
       "      <th>movieId</th>\n",
       "      <th>actual</th>\n",
       "      <th>cf_predictions</th>\n",
       "    </tr>\n",
       "  </thead>\n",
       "  <tbody>\n",
       "    <tr>\n",
       "      <th>0</th>\n",
       "      <td>199</td>\n",
       "      <td>104879</td>\n",
       "      <td>3.5</td>\n",
       "      <td>3.775284</td>\n",
       "    </tr>\n",
       "    <tr>\n",
       "      <th>1</th>\n",
       "      <td>595</td>\n",
       "      <td>2355</td>\n",
       "      <td>5.0</td>\n",
       "      <td>4.027709</td>\n",
       "    </tr>\n",
       "    <tr>\n",
       "      <th>2</th>\n",
       "      <td>665</td>\n",
       "      <td>5991</td>\n",
       "      <td>4.0</td>\n",
       "      <td>3.604983</td>\n",
       "    </tr>\n",
       "    <tr>\n",
       "      <th>3</th>\n",
       "      <td>213</td>\n",
       "      <td>1240</td>\n",
       "      <td>3.5</td>\n",
       "      <td>3.780766</td>\n",
       "    </tr>\n",
       "    <tr>\n",
       "      <th>4</th>\n",
       "      <td>36</td>\n",
       "      <td>21</td>\n",
       "      <td>3.0</td>\n",
       "      <td>3.798470</td>\n",
       "    </tr>\n",
       "  </tbody>\n",
       "</table>\n",
       "</div>"
      ],
      "text/plain": [
       "   userId  movieId  actual  cf_predictions\n",
       "0     199   104879     3.5        3.775284\n",
       "1     595     2355     5.0        4.027709\n",
       "2     665     5991     4.0        3.604983\n",
       "3     213     1240     3.5        3.780766\n",
       "4      36       21     3.0        3.798470"
      ]
     },
     "execution_count": 17,
     "metadata": {},
     "output_type": "execute_result"
    }
   ],
   "source": [
    "# предикт\n",
    "test = algo.test(testset)\n",
    "test = pd.DataFrame(test)\n",
    "test.drop(\"details\", inplace=True, axis=1)\n",
    "test.columns = ['userId', 'movieId', 'actual', 'cf_predictions']\n",
    "test.head()"
   ]
  },
  {
   "cell_type": "code",
   "execution_count": 18,
   "id": "f68b4774-3e0f-456e-b63f-ae5f0586a6b8",
   "metadata": {},
   "outputs": [
    {
     "name": "stdout",
     "output_type": "stream",
     "text": [
      "MSE:  0.35436793732739225\n",
      "RMSE:  0.5952881128725755\n"
     ]
    }
   ],
   "source": [
    "# MSE и RMSE\n",
    "print(\"MSE: \", mse(test.actual, test.cf_predictions))\n",
    "print(\"RMSE: \", rmse(test.actual, test.cf_predictions))"
   ]
  },
  {
   "cell_type": "code",
   "execution_count": 19,
   "id": "7152331b-5e31-40d9-9b29-3dcba481e707",
   "metadata": {},
   "outputs": [],
   "source": [
    "# матрица предиктов\n",
    "cf_model = test.pivot_table(index='userId', columns='movieId', values='cf_predictions').fillna(0)"
   ]
  },
  {
   "cell_type": "code",
   "execution_count": 21,
   "id": "4415fbb0-7a22-4b74-b61b-0c448b08bac1",
   "metadata": {},
   "outputs": [
    {
     "data": {
      "text/html": [
       "<div>\n",
       "<style scoped>\n",
       "    .dataframe tbody tr th:only-of-type {\n",
       "        vertical-align: middle;\n",
       "    }\n",
       "\n",
       "    .dataframe tbody tr th {\n",
       "        vertical-align: top;\n",
       "    }\n",
       "\n",
       "    .dataframe thead th {\n",
       "        text-align: right;\n",
       "    }\n",
       "</style>\n",
       "<table border=\"1\" class=\"dataframe\">\n",
       "  <thead>\n",
       "    <tr style=\"text-align: right;\">\n",
       "      <th>movieId</th>\n",
       "      <th>1</th>\n",
       "      <th>2</th>\n",
       "      <th>3</th>\n",
       "      <th>4</th>\n",
       "      <th>5</th>\n",
       "      <th>6</th>\n",
       "      <th>7</th>\n",
       "      <th>8</th>\n",
       "      <th>9</th>\n",
       "      <th>10</th>\n",
       "      <th>...</th>\n",
       "      <th>148238</th>\n",
       "      <th>148626</th>\n",
       "      <th>149352</th>\n",
       "      <th>149354</th>\n",
       "      <th>152081</th>\n",
       "      <th>153584</th>\n",
       "      <th>155611</th>\n",
       "      <th>159462</th>\n",
       "      <th>160438</th>\n",
       "      <th>161594</th>\n",
       "    </tr>\n",
       "    <tr>\n",
       "      <th>userId</th>\n",
       "      <th></th>\n",
       "      <th></th>\n",
       "      <th></th>\n",
       "      <th></th>\n",
       "      <th></th>\n",
       "      <th></th>\n",
       "      <th></th>\n",
       "      <th></th>\n",
       "      <th></th>\n",
       "      <th></th>\n",
       "      <th></th>\n",
       "      <th></th>\n",
       "      <th></th>\n",
       "      <th></th>\n",
       "      <th></th>\n",
       "      <th></th>\n",
       "      <th></th>\n",
       "      <th></th>\n",
       "      <th></th>\n",
       "      <th></th>\n",
       "      <th></th>\n",
       "    </tr>\n",
       "  </thead>\n",
       "  <tbody>\n",
       "    <tr>\n",
       "      <th>4</th>\n",
       "      <td>0.0</td>\n",
       "      <td>0.000000</td>\n",
       "      <td>0.0</td>\n",
       "      <td>0.0</td>\n",
       "      <td>0.0</td>\n",
       "      <td>0.0</td>\n",
       "      <td>0.0</td>\n",
       "      <td>0.0</td>\n",
       "      <td>0.0</td>\n",
       "      <td>4.041647</td>\n",
       "      <td>...</td>\n",
       "      <td>0.0</td>\n",
       "      <td>0.000000</td>\n",
       "      <td>0.00000</td>\n",
       "      <td>0.000000</td>\n",
       "      <td>0.0</td>\n",
       "      <td>0.0</td>\n",
       "      <td>0.0</td>\n",
       "      <td>0.0</td>\n",
       "      <td>0.0</td>\n",
       "      <td>0.0</td>\n",
       "    </tr>\n",
       "    <tr>\n",
       "      <th>8</th>\n",
       "      <td>0.0</td>\n",
       "      <td>0.000000</td>\n",
       "      <td>0.0</td>\n",
       "      <td>0.0</td>\n",
       "      <td>0.0</td>\n",
       "      <td>0.0</td>\n",
       "      <td>0.0</td>\n",
       "      <td>0.0</td>\n",
       "      <td>0.0</td>\n",
       "      <td>0.000000</td>\n",
       "      <td>...</td>\n",
       "      <td>0.0</td>\n",
       "      <td>0.000000</td>\n",
       "      <td>0.00000</td>\n",
       "      <td>0.000000</td>\n",
       "      <td>0.0</td>\n",
       "      <td>0.0</td>\n",
       "      <td>0.0</td>\n",
       "      <td>0.0</td>\n",
       "      <td>0.0</td>\n",
       "      <td>0.0</td>\n",
       "    </tr>\n",
       "    <tr>\n",
       "      <th>15</th>\n",
       "      <td>0.0</td>\n",
       "      <td>0.000000</td>\n",
       "      <td>0.0</td>\n",
       "      <td>0.0</td>\n",
       "      <td>0.0</td>\n",
       "      <td>0.0</td>\n",
       "      <td>0.0</td>\n",
       "      <td>0.0</td>\n",
       "      <td>0.0</td>\n",
       "      <td>0.000000</td>\n",
       "      <td>...</td>\n",
       "      <td>0.0</td>\n",
       "      <td>3.770413</td>\n",
       "      <td>3.63395</td>\n",
       "      <td>3.701165</td>\n",
       "      <td>0.0</td>\n",
       "      <td>0.0</td>\n",
       "      <td>0.0</td>\n",
       "      <td>0.0</td>\n",
       "      <td>0.0</td>\n",
       "      <td>0.0</td>\n",
       "    </tr>\n",
       "    <tr>\n",
       "      <th>17</th>\n",
       "      <td>0.0</td>\n",
       "      <td>0.000000</td>\n",
       "      <td>0.0</td>\n",
       "      <td>0.0</td>\n",
       "      <td>0.0</td>\n",
       "      <td>0.0</td>\n",
       "      <td>0.0</td>\n",
       "      <td>0.0</td>\n",
       "      <td>0.0</td>\n",
       "      <td>0.000000</td>\n",
       "      <td>...</td>\n",
       "      <td>0.0</td>\n",
       "      <td>0.000000</td>\n",
       "      <td>0.00000</td>\n",
       "      <td>0.000000</td>\n",
       "      <td>0.0</td>\n",
       "      <td>0.0</td>\n",
       "      <td>0.0</td>\n",
       "      <td>0.0</td>\n",
       "      <td>0.0</td>\n",
       "      <td>0.0</td>\n",
       "    </tr>\n",
       "    <tr>\n",
       "      <th>19</th>\n",
       "      <td>0.0</td>\n",
       "      <td>0.000000</td>\n",
       "      <td>0.0</td>\n",
       "      <td>0.0</td>\n",
       "      <td>0.0</td>\n",
       "      <td>0.0</td>\n",
       "      <td>0.0</td>\n",
       "      <td>0.0</td>\n",
       "      <td>0.0</td>\n",
       "      <td>0.000000</td>\n",
       "      <td>...</td>\n",
       "      <td>0.0</td>\n",
       "      <td>0.000000</td>\n",
       "      <td>0.00000</td>\n",
       "      <td>0.000000</td>\n",
       "      <td>0.0</td>\n",
       "      <td>0.0</td>\n",
       "      <td>0.0</td>\n",
       "      <td>0.0</td>\n",
       "      <td>0.0</td>\n",
       "      <td>0.0</td>\n",
       "    </tr>\n",
       "    <tr>\n",
       "      <th>...</th>\n",
       "      <td>...</td>\n",
       "      <td>...</td>\n",
       "      <td>...</td>\n",
       "      <td>...</td>\n",
       "      <td>...</td>\n",
       "      <td>...</td>\n",
       "      <td>...</td>\n",
       "      <td>...</td>\n",
       "      <td>...</td>\n",
       "      <td>...</td>\n",
       "      <td>...</td>\n",
       "      <td>...</td>\n",
       "      <td>...</td>\n",
       "      <td>...</td>\n",
       "      <td>...</td>\n",
       "      <td>...</td>\n",
       "      <td>...</td>\n",
       "      <td>...</td>\n",
       "      <td>...</td>\n",
       "      <td>...</td>\n",
       "      <td>...</td>\n",
       "    </tr>\n",
       "    <tr>\n",
       "      <th>656</th>\n",
       "      <td>0.0</td>\n",
       "      <td>0.000000</td>\n",
       "      <td>0.0</td>\n",
       "      <td>0.0</td>\n",
       "      <td>0.0</td>\n",
       "      <td>0.0</td>\n",
       "      <td>0.0</td>\n",
       "      <td>0.0</td>\n",
       "      <td>0.0</td>\n",
       "      <td>0.000000</td>\n",
       "      <td>...</td>\n",
       "      <td>0.0</td>\n",
       "      <td>0.000000</td>\n",
       "      <td>0.00000</td>\n",
       "      <td>0.000000</td>\n",
       "      <td>0.0</td>\n",
       "      <td>0.0</td>\n",
       "      <td>0.0</td>\n",
       "      <td>0.0</td>\n",
       "      <td>0.0</td>\n",
       "      <td>0.0</td>\n",
       "    </tr>\n",
       "    <tr>\n",
       "      <th>659</th>\n",
       "      <td>0.0</td>\n",
       "      <td>0.000000</td>\n",
       "      <td>0.0</td>\n",
       "      <td>0.0</td>\n",
       "      <td>0.0</td>\n",
       "      <td>0.0</td>\n",
       "      <td>0.0</td>\n",
       "      <td>0.0</td>\n",
       "      <td>0.0</td>\n",
       "      <td>0.000000</td>\n",
       "      <td>...</td>\n",
       "      <td>0.0</td>\n",
       "      <td>0.000000</td>\n",
       "      <td>0.00000</td>\n",
       "      <td>0.000000</td>\n",
       "      <td>0.0</td>\n",
       "      <td>0.0</td>\n",
       "      <td>0.0</td>\n",
       "      <td>0.0</td>\n",
       "      <td>0.0</td>\n",
       "      <td>0.0</td>\n",
       "    </tr>\n",
       "    <tr>\n",
       "      <th>664</th>\n",
       "      <td>0.0</td>\n",
       "      <td>0.000000</td>\n",
       "      <td>0.0</td>\n",
       "      <td>0.0</td>\n",
       "      <td>0.0</td>\n",
       "      <td>0.0</td>\n",
       "      <td>0.0</td>\n",
       "      <td>0.0</td>\n",
       "      <td>0.0</td>\n",
       "      <td>0.000000</td>\n",
       "      <td>...</td>\n",
       "      <td>0.0</td>\n",
       "      <td>0.000000</td>\n",
       "      <td>0.00000</td>\n",
       "      <td>0.000000</td>\n",
       "      <td>0.0</td>\n",
       "      <td>0.0</td>\n",
       "      <td>0.0</td>\n",
       "      <td>0.0</td>\n",
       "      <td>0.0</td>\n",
       "      <td>0.0</td>\n",
       "    </tr>\n",
       "    <tr>\n",
       "      <th>665</th>\n",
       "      <td>0.0</td>\n",
       "      <td>3.282885</td>\n",
       "      <td>0.0</td>\n",
       "      <td>0.0</td>\n",
       "      <td>0.0</td>\n",
       "      <td>0.0</td>\n",
       "      <td>0.0</td>\n",
       "      <td>0.0</td>\n",
       "      <td>0.0</td>\n",
       "      <td>0.000000</td>\n",
       "      <td>...</td>\n",
       "      <td>0.0</td>\n",
       "      <td>0.000000</td>\n",
       "      <td>0.00000</td>\n",
       "      <td>0.000000</td>\n",
       "      <td>0.0</td>\n",
       "      <td>0.0</td>\n",
       "      <td>0.0</td>\n",
       "      <td>0.0</td>\n",
       "      <td>0.0</td>\n",
       "      <td>0.0</td>\n",
       "    </tr>\n",
       "    <tr>\n",
       "      <th>671</th>\n",
       "      <td>0.0</td>\n",
       "      <td>0.000000</td>\n",
       "      <td>0.0</td>\n",
       "      <td>0.0</td>\n",
       "      <td>0.0</td>\n",
       "      <td>0.0</td>\n",
       "      <td>0.0</td>\n",
       "      <td>0.0</td>\n",
       "      <td>0.0</td>\n",
       "      <td>0.000000</td>\n",
       "      <td>...</td>\n",
       "      <td>0.0</td>\n",
       "      <td>0.000000</td>\n",
       "      <td>0.00000</td>\n",
       "      <td>0.000000</td>\n",
       "      <td>0.0</td>\n",
       "      <td>0.0</td>\n",
       "      <td>0.0</td>\n",
       "      <td>0.0</td>\n",
       "      <td>0.0</td>\n",
       "      <td>0.0</td>\n",
       "    </tr>\n",
       "  </tbody>\n",
       "</table>\n",
       "<p>230 rows × 4308 columns</p>\n",
       "</div>"
      ],
      "text/plain": [
       "movieId  1         2       3       4       5       6       7       8       \\\n",
       "userId                                                                      \n",
       "4           0.0  0.000000     0.0     0.0     0.0     0.0     0.0     0.0   \n",
       "8           0.0  0.000000     0.0     0.0     0.0     0.0     0.0     0.0   \n",
       "15          0.0  0.000000     0.0     0.0     0.0     0.0     0.0     0.0   \n",
       "17          0.0  0.000000     0.0     0.0     0.0     0.0     0.0     0.0   \n",
       "19          0.0  0.000000     0.0     0.0     0.0     0.0     0.0     0.0   \n",
       "...         ...       ...     ...     ...     ...     ...     ...     ...   \n",
       "656         0.0  0.000000     0.0     0.0     0.0     0.0     0.0     0.0   \n",
       "659         0.0  0.000000     0.0     0.0     0.0     0.0     0.0     0.0   \n",
       "664         0.0  0.000000     0.0     0.0     0.0     0.0     0.0     0.0   \n",
       "665         0.0  3.282885     0.0     0.0     0.0     0.0     0.0     0.0   \n",
       "671         0.0  0.000000     0.0     0.0     0.0     0.0     0.0     0.0   \n",
       "\n",
       "movieId  9         10      ...  148238    148626   149352    149354  152081  \\\n",
       "userId                     ...                                                \n",
       "4           0.0  4.041647  ...     0.0  0.000000  0.00000  0.000000     0.0   \n",
       "8           0.0  0.000000  ...     0.0  0.000000  0.00000  0.000000     0.0   \n",
       "15          0.0  0.000000  ...     0.0  3.770413  3.63395  3.701165     0.0   \n",
       "17          0.0  0.000000  ...     0.0  0.000000  0.00000  0.000000     0.0   \n",
       "19          0.0  0.000000  ...     0.0  0.000000  0.00000  0.000000     0.0   \n",
       "...         ...       ...  ...     ...       ...      ...       ...     ...   \n",
       "656         0.0  0.000000  ...     0.0  0.000000  0.00000  0.000000     0.0   \n",
       "659         0.0  0.000000  ...     0.0  0.000000  0.00000  0.000000     0.0   \n",
       "664         0.0  0.000000  ...     0.0  0.000000  0.00000  0.000000     0.0   \n",
       "665         0.0  0.000000  ...     0.0  0.000000  0.00000  0.000000     0.0   \n",
       "671         0.0  0.000000  ...     0.0  0.000000  0.00000  0.000000     0.0   \n",
       "\n",
       "movieId  153584  155611  159462  160438  161594  \n",
       "userId                                           \n",
       "4           0.0     0.0     0.0     0.0     0.0  \n",
       "8           0.0     0.0     0.0     0.0     0.0  \n",
       "15          0.0     0.0     0.0     0.0     0.0  \n",
       "17          0.0     0.0     0.0     0.0     0.0  \n",
       "19          0.0     0.0     0.0     0.0     0.0  \n",
       "...         ...     ...     ...     ...     ...  \n",
       "656         0.0     0.0     0.0     0.0     0.0  \n",
       "659         0.0     0.0     0.0     0.0     0.0  \n",
       "664         0.0     0.0     0.0     0.0     0.0  \n",
       "665         0.0     0.0     0.0     0.0     0.0  \n",
       "671         0.0     0.0     0.0     0.0     0.0  \n",
       "\n",
       "[230 rows x 4308 columns]"
      ]
     },
     "execution_count": 21,
     "metadata": {},
     "output_type": "execute_result"
    }
   ],
   "source": [
    "cf_model"
   ]
  },
  {
   "cell_type": "code",
   "execution_count": 20,
   "id": "9873044b-e29a-417b-a70b-03f16c8b841a",
   "metadata": {},
   "outputs": [],
   "source": [
    "def get_users_predictions(user_id, n, model):\n",
    "    recommended_items = pd.DataFrame(model.loc[user_id])\n",
    "    recommended_items.columns = [\"predicted_rating\"]\n",
    "    recommended_items = recommended_items.sort_values('predicted_rating', ascending=False)    \n",
    "    recommended_items = recommended_items.head(n)\n",
    "    return recommended_items.index.tolist()"
   ]
  },
  {
   "cell_type": "code",
   "execution_count": 22,
   "id": "58b3aa10-e565-4f07-a04f-d92760d81a22",
   "metadata": {},
   "outputs": [
    {
     "data": {
      "text/plain": [
       "[1221, 969, 953, 912, 1230, 50, 908, 2858, 2303, 1089]"
      ]
     },
     "execution_count": 22,
     "metadata": {},
     "output_type": "execute_result"
    }
   ],
   "source": [
    "# пример\n",
    "get_users_predictions(547, 10, cf_model)"
   ]
  },
  {
   "cell_type": "code",
   "execution_count": null,
   "id": "34db414e-8681-415a-8a83-a10f0d7136d6",
   "metadata": {},
   "outputs": [],
   "source": [
    "# юзер-факт (т.е. те элементы, которые пользователь оценил)"
   ]
  },
  {
   "cell_type": "code",
   "execution_count": 23,
   "id": "e991dff7-35ef-4ef4-a728-e166f5698b18",
   "metadata": {},
   "outputs": [],
   "source": [
    "test = test.copy().groupby('userId', as_index=False)['movieId'].agg({'actual': (lambda x: list(set(x)))})\n",
    "test = test.set_index(\"userId\")"
   ]
  },
  {
   "cell_type": "code",
   "execution_count": 24,
   "id": "695414f4-89c0-4ac5-9ea6-4f7977c3b2ec",
   "metadata": {},
   "outputs": [
    {
     "data": {
      "text/html": [
       "<div>\n",
       "<style scoped>\n",
       "    .dataframe tbody tr th:only-of-type {\n",
       "        vertical-align: middle;\n",
       "    }\n",
       "\n",
       "    .dataframe tbody tr th {\n",
       "        vertical-align: top;\n",
       "    }\n",
       "\n",
       "    .dataframe thead th {\n",
       "        text-align: right;\n",
       "    }\n",
       "</style>\n",
       "<table border=\"1\" class=\"dataframe\">\n",
       "  <thead>\n",
       "    <tr style=\"text-align: right;\">\n",
       "      <th></th>\n",
       "      <th>actual</th>\n",
       "      <th>cf_predictions</th>\n",
       "    </tr>\n",
       "    <tr>\n",
       "      <th>userId</th>\n",
       "      <th></th>\n",
       "      <th></th>\n",
       "    </tr>\n",
       "  </thead>\n",
       "  <tbody>\n",
       "    <tr>\n",
       "      <th>4</th>\n",
       "      <td>[260, 1032, 1033, 10, 1544, 913, 1022, 153, 41...</td>\n",
       "      <td>[858, 913, 260, 1225, 1079, 1089, 2289, 1213, ...</td>\n",
       "    </tr>\n",
       "    <tr>\n",
       "      <th>8</th>\n",
       "      <td>[4993, 4226, 4995, 40583, 1674, 33166, 2841, 3...</td>\n",
       "      <td>[858, 50, 4993, 1196, 4226, 318, 1198, 1258, 2...</td>\n",
       "    </tr>\n",
       "    <tr>\n",
       "      <th>15</th>\n",
       "      <td>[5120, 33794, 3077, 1546, 3083, 2572, 1036, 25...</td>\n",
       "      <td>[858, 953, 1230, 1148, 1233, 1210, 750, 2918, ...</td>\n",
       "    </tr>\n",
       "    <tr>\n",
       "      <th>17</th>\n",
       "      <td>[27266, 1411, 2692, 1923, 1674, 2571, 908, 590...</td>\n",
       "      <td>[50, 2571, 608, 541, 908, 924, 912, 1411, 1258...</td>\n",
       "    </tr>\n",
       "    <tr>\n",
       "      <th>19</th>\n",
       "      <td>[1036, 527, 21, 535, 541, 35, 1077, 58, 1082, ...</td>\n",
       "      <td>[1221, 260, 903, 1233, 1214, 527, 194, 1304, 2...</td>\n",
       "    </tr>\n",
       "  </tbody>\n",
       "</table>\n",
       "</div>"
      ],
      "text/plain": [
       "                                                   actual  \\\n",
       "userId                                                      \n",
       "4       [260, 1032, 1033, 10, 1544, 913, 1022, 153, 41...   \n",
       "8       [4993, 4226, 4995, 40583, 1674, 33166, 2841, 3...   \n",
       "15      [5120, 33794, 3077, 1546, 3083, 2572, 1036, 25...   \n",
       "17      [27266, 1411, 2692, 1923, 1674, 2571, 908, 590...   \n",
       "19      [1036, 527, 21, 535, 541, 35, 1077, 58, 1082, ...   \n",
       "\n",
       "                                           cf_predictions  \n",
       "userId                                                     \n",
       "4       [858, 913, 260, 1225, 1079, 1089, 2289, 1213, ...  \n",
       "8       [858, 50, 4993, 1196, 4226, 318, 1198, 1258, 2...  \n",
       "15      [858, 953, 1230, 1148, 1233, 1210, 750, 2918, ...  \n",
       "17      [50, 2571, 608, 541, 908, 924, 912, 1411, 1258...  \n",
       "19      [1221, 260, 903, 1233, 1214, 527, 194, 1304, 2...  "
      ]
     },
     "execution_count": 24,
     "metadata": {},
     "output_type": "execute_result"
    }
   ],
   "source": [
    "# сделать рекомендации для всех по тестовому набору\n",
    "\n",
    "cf_recs = [] = []\n",
    "for user in test.index:\n",
    "    cf_predictions = get_users_predictions(user, 10, cf_model)\n",
    "    cf_recs.append(cf_predictions)\n",
    "        \n",
    "test['cf_predictions'] = cf_recs\n",
    "test.head()"
   ]
  },
  {
   "cell_type": "markdown",
   "id": "62bf0149-2505-488f-ba77-9bec7f2abdbb",
   "metadata": {},
   "source": [
    "### Создаем расчет на основе популярных рекомендаций"
   ]
  },
  {
   "cell_type": "code",
   "execution_count": 25,
   "id": "7dca596e-9089-4841-9499-2fd025797b27",
   "metadata": {},
   "outputs": [
    {
     "data": {
      "text/html": [
       "<div>\n",
       "<style scoped>\n",
       "    .dataframe tbody tr th:only-of-type {\n",
       "        vertical-align: middle;\n",
       "    }\n",
       "\n",
       "    .dataframe tbody tr th {\n",
       "        vertical-align: top;\n",
       "    }\n",
       "\n",
       "    .dataframe thead th {\n",
       "        text-align: right;\n",
       "    }\n",
       "</style>\n",
       "<table border=\"1\" class=\"dataframe\">\n",
       "  <thead>\n",
       "    <tr style=\"text-align: right;\">\n",
       "      <th></th>\n",
       "      <th>actual</th>\n",
       "      <th>cf_predictions</th>\n",
       "      <th>pop_predictions</th>\n",
       "    </tr>\n",
       "    <tr>\n",
       "      <th>userId</th>\n",
       "      <th></th>\n",
       "      <th></th>\n",
       "      <th></th>\n",
       "    </tr>\n",
       "  </thead>\n",
       "  <tbody>\n",
       "    <tr>\n",
       "      <th>4</th>\n",
       "      <td>[260, 1032, 1033, 10, 1544, 913, 1022, 153, 41...</td>\n",
       "      <td>[858, 913, 260, 1225, 1079, 1089, 2289, 1213, ...</td>\n",
       "      <td>[356, 296, 260, 1270, 593, 1196, 2571, 318, 11...</td>\n",
       "    </tr>\n",
       "    <tr>\n",
       "      <th>8</th>\n",
       "      <td>[4993, 4226, 4995, 40583, 1674, 33166, 2841, 3...</td>\n",
       "      <td>[858, 50, 4993, 1196, 4226, 318, 1198, 1258, 2...</td>\n",
       "      <td>[356, 296, 260, 1270, 593, 1196, 2571, 318, 11...</td>\n",
       "    </tr>\n",
       "    <tr>\n",
       "      <th>15</th>\n",
       "      <td>[5120, 33794, 3077, 1546, 3083, 2572, 1036, 25...</td>\n",
       "      <td>[858, 953, 1230, 1148, 1233, 1210, 750, 2918, ...</td>\n",
       "      <td>[356, 296, 260, 1270, 593, 1196, 2571, 318, 11...</td>\n",
       "    </tr>\n",
       "    <tr>\n",
       "      <th>17</th>\n",
       "      <td>[27266, 1411, 2692, 1923, 1674, 2571, 908, 590...</td>\n",
       "      <td>[50, 2571, 608, 541, 908, 924, 912, 1411, 1258...</td>\n",
       "      <td>[356, 296, 260, 1270, 593, 1196, 2571, 318, 11...</td>\n",
       "    </tr>\n",
       "    <tr>\n",
       "      <th>19</th>\n",
       "      <td>[1036, 527, 21, 535, 541, 35, 1077, 58, 1082, ...</td>\n",
       "      <td>[1221, 260, 903, 1233, 1214, 527, 194, 1304, 2...</td>\n",
       "      <td>[356, 296, 260, 1270, 593, 1196, 2571, 318, 11...</td>\n",
       "    </tr>\n",
       "  </tbody>\n",
       "</table>\n",
       "</div>"
      ],
      "text/plain": [
       "                                                   actual  \\\n",
       "userId                                                      \n",
       "4       [260, 1032, 1033, 10, 1544, 913, 1022, 153, 41...   \n",
       "8       [4993, 4226, 4995, 40583, 1674, 33166, 2841, 3...   \n",
       "15      [5120, 33794, 3077, 1546, 3083, 2572, 1036, 25...   \n",
       "17      [27266, 1411, 2692, 1923, 1674, 2571, 908, 590...   \n",
       "19      [1036, 527, 21, 535, 541, 35, 1077, 58, 1082, ...   \n",
       "\n",
       "                                           cf_predictions  \\\n",
       "userId                                                      \n",
       "4       [858, 913, 260, 1225, 1079, 1089, 2289, 1213, ...   \n",
       "8       [858, 50, 4993, 1196, 4226, 318, 1198, 1258, 2...   \n",
       "15      [858, 953, 1230, 1148, 1233, 1210, 750, 2918, ...   \n",
       "17      [50, 2571, 608, 541, 908, 924, 912, 1411, 1258...   \n",
       "19      [1221, 260, 903, 1233, 1214, 527, 194, 1304, 2...   \n",
       "\n",
       "                                          pop_predictions  \n",
       "userId                                                     \n",
       "4       [356, 296, 260, 1270, 593, 1196, 2571, 318, 11...  \n",
       "8       [356, 296, 260, 1270, 593, 1196, 2571, 318, 11...  \n",
       "15      [356, 296, 260, 1270, 593, 1196, 2571, 318, 11...  \n",
       "17      [356, 296, 260, 1270, 593, 1196, 2571, 318, 11...  \n",
       "19      [356, 296, 260, 1270, 593, 1196, 2571, 318, 11...  "
      ]
     },
     "execution_count": 25,
     "metadata": {},
     "output_type": "execute_result"
    }
   ],
   "source": [
    "# рекомендации по всем\n",
    "popularity_recs = ratings.movieId.value_counts().head(10).index.tolist()\n",
    "\n",
    "pop_recs = []\n",
    "for user in test.index:\n",
    "    pop_predictions = popularity_recs\n",
    "    pop_recs.append(pop_predictions)\n",
    "        \n",
    "test['pop_predictions'] = pop_recs\n",
    "test.head()"
   ]
  },
  {
   "cell_type": "markdown",
   "id": "25adb8e4-8dbc-42e1-89df-c38497333c6b",
   "metadata": {},
   "source": [
    "### Создаем расчет на основе рандомных рекомендаций"
   ]
  },
  {
   "cell_type": "code",
   "execution_count": 26,
   "id": "81a0b5e4-910c-4b41-a264-1ef5229c16d8",
   "metadata": {},
   "outputs": [
    {
     "data": {
      "text/html": [
       "<div>\n",
       "<style scoped>\n",
       "    .dataframe tbody tr th:only-of-type {\n",
       "        vertical-align: middle;\n",
       "    }\n",
       "\n",
       "    .dataframe tbody tr th {\n",
       "        vertical-align: top;\n",
       "    }\n",
       "\n",
       "    .dataframe thead th {\n",
       "        text-align: right;\n",
       "    }\n",
       "</style>\n",
       "<table border=\"1\" class=\"dataframe\">\n",
       "  <thead>\n",
       "    <tr style=\"text-align: right;\">\n",
       "      <th></th>\n",
       "      <th>actual</th>\n",
       "      <th>cf_predictions</th>\n",
       "      <th>pop_predictions</th>\n",
       "      <th>random_predictions</th>\n",
       "    </tr>\n",
       "    <tr>\n",
       "      <th>userId</th>\n",
       "      <th></th>\n",
       "      <th></th>\n",
       "      <th></th>\n",
       "      <th></th>\n",
       "    </tr>\n",
       "  </thead>\n",
       "  <tbody>\n",
       "    <tr>\n",
       "      <th>4</th>\n",
       "      <td>[260, 1032, 1033, 10, 1544, 913, 1022, 153, 41...</td>\n",
       "      <td>[858, 913, 260, 1225, 1079, 1089, 2289, 1213, ...</td>\n",
       "      <td>[356, 296, 260, 1270, 593, 1196, 2571, 318, 11...</td>\n",
       "      <td>[2826, 555, 4963, 93443, 2640, 8874, 33794, 30...</td>\n",
       "    </tr>\n",
       "    <tr>\n",
       "      <th>8</th>\n",
       "      <td>[4993, 4226, 4995, 40583, 1674, 33166, 2841, 3...</td>\n",
       "      <td>[858, 50, 4993, 1196, 4226, 318, 1198, 1258, 2...</td>\n",
       "      <td>[356, 296, 260, 1270, 593, 1196, 2571, 318, 11...</td>\n",
       "      <td>[942, 29, 858, 858, 27611, 1272, 1136, 1249, 5...</td>\n",
       "    </tr>\n",
       "    <tr>\n",
       "      <th>15</th>\n",
       "      <td>[5120, 33794, 3077, 1546, 3083, 2572, 1036, 25...</td>\n",
       "      <td>[858, 953, 1230, 1148, 1233, 1210, 750, 2918, ...</td>\n",
       "      <td>[356, 296, 260, 1270, 593, 1196, 2571, 318, 11...</td>\n",
       "      <td>[2746, 2085, 122886, 7375, 1197, 30793, 489, 6...</td>\n",
       "    </tr>\n",
       "    <tr>\n",
       "      <th>17</th>\n",
       "      <td>[27266, 1411, 2692, 1923, 1674, 2571, 908, 590...</td>\n",
       "      <td>[50, 2571, 608, 541, 908, 924, 912, 1411, 1258...</td>\n",
       "      <td>[356, 296, 260, 1270, 593, 1196, 2571, 318, 11...</td>\n",
       "      <td>[165, 30810, 5540, 1282, 1136, 3019, 31410, 42...</td>\n",
       "    </tr>\n",
       "    <tr>\n",
       "      <th>19</th>\n",
       "      <td>[1036, 527, 21, 535, 541, 35, 1077, 58, 1082, ...</td>\n",
       "      <td>[1221, 260, 903, 1233, 1214, 527, 194, 1304, 2...</td>\n",
       "      <td>[356, 296, 260, 1270, 593, 1196, 2571, 318, 11...</td>\n",
       "      <td>[3507, 2115, 608, 3527, 3006, 1213, 1079, 2761...</td>\n",
       "    </tr>\n",
       "  </tbody>\n",
       "</table>\n",
       "</div>"
      ],
      "text/plain": [
       "                                                   actual  \\\n",
       "userId                                                      \n",
       "4       [260, 1032, 1033, 10, 1544, 913, 1022, 153, 41...   \n",
       "8       [4993, 4226, 4995, 40583, 1674, 33166, 2841, 3...   \n",
       "15      [5120, 33794, 3077, 1546, 3083, 2572, 1036, 25...   \n",
       "17      [27266, 1411, 2692, 1923, 1674, 2571, 908, 590...   \n",
       "19      [1036, 527, 21, 535, 541, 35, 1077, 58, 1082, ...   \n",
       "\n",
       "                                           cf_predictions  \\\n",
       "userId                                                      \n",
       "4       [858, 913, 260, 1225, 1079, 1089, 2289, 1213, ...   \n",
       "8       [858, 50, 4993, 1196, 4226, 318, 1198, 1258, 2...   \n",
       "15      [858, 953, 1230, 1148, 1233, 1210, 750, 2918, ...   \n",
       "17      [50, 2571, 608, 541, 908, 924, 912, 1411, 1258...   \n",
       "19      [1221, 260, 903, 1233, 1214, 527, 194, 1304, 2...   \n",
       "\n",
       "                                          pop_predictions  \\\n",
       "userId                                                      \n",
       "4       [356, 296, 260, 1270, 593, 1196, 2571, 318, 11...   \n",
       "8       [356, 296, 260, 1270, 593, 1196, 2571, 318, 11...   \n",
       "15      [356, 296, 260, 1270, 593, 1196, 2571, 318, 11...   \n",
       "17      [356, 296, 260, 1270, 593, 1196, 2571, 318, 11...   \n",
       "19      [356, 296, 260, 1270, 593, 1196, 2571, 318, 11...   \n",
       "\n",
       "                                       random_predictions  \n",
       "userId                                                     \n",
       "4       [2826, 555, 4963, 93443, 2640, 8874, 33794, 30...  \n",
       "8       [942, 29, 858, 858, 27611, 1272, 1136, 1249, 5...  \n",
       "15      [2746, 2085, 122886, 7375, 1197, 30793, 489, 6...  \n",
       "17      [165, 30810, 5540, 1282, 1136, 3019, 31410, 42...  \n",
       "19      [3507, 2115, 608, 3527, 3006, 1213, 1079, 2761...  "
      ]
     },
     "execution_count": 26,
     "metadata": {},
     "output_type": "execute_result"
    }
   ],
   "source": [
    "# рекомендации по всем\n",
    "\n",
    "ran_recs = []\n",
    "for user in test.index:\n",
    "    random_predictions = ratings.movieId.sample(10).values.tolist()\n",
    "    ran_recs.append(random_predictions)\n",
    "        \n",
    "test['random_predictions'] = ran_recs\n",
    "test.head()"
   ]
  },
  {
   "cell_type": "markdown",
   "id": "83ea00c7-c244-4088-ade5-8245350c373c",
   "metadata": {},
   "source": [
    "### расчет Recall"
   ]
  },
  {
   "cell_type": "code",
   "execution_count": 27,
   "id": "57c04857-d418-4c63-846a-6224f8a7f0b6",
   "metadata": {},
   "outputs": [],
   "source": [
    "actual = test.actual.values.tolist()\n",
    "cf_predictions = test.cf_predictions.values.tolist()\n",
    "pop_predictions = test.pop_predictions.values.tolist()\n",
    "random_predictions = test.random_predictions.values.tolist()"
   ]
  },
  {
   "cell_type": "code",
   "execution_count": 28,
   "id": "6a52a5b3-7944-408a-bc92-c0243514f823",
   "metadata": {},
   "outputs": [
    {
     "data": {
      "text/plain": [
       "[0.0035834096734322406,\n",
       " 0.0059092854875060375,\n",
       " 0.007828295398578943,\n",
       " 0.009072393308641635,\n",
       " 0.01026918820039271,\n",
       " 0.011156203130454848,\n",
       " 0.012009328274708264,\n",
       " 0.012979500240619576,\n",
       " 0.013771130946271845,\n",
       " 0.014391909798674999,\n",
       " 0.014391909798674999,\n",
       " 0.014391909798674999,\n",
       " 0.014391909798674999,\n",
       " 0.014391909798674999,\n",
       " 0.014391909798674999,\n",
       " 0.014391909798674999,\n",
       " 0.014391909798674999,\n",
       " 0.014391909798674999,\n",
       " 0.014391909798674999]"
      ]
     },
     "execution_count": 28,
     "metadata": {},
     "output_type": "execute_result"
    }
   ],
   "source": [
    "pop_mark = []\n",
    "for K in np.arange(1, 20):\n",
    "    pop_mark.extend([mark(actual, pop_predictions, k=K)])\n",
    "pop_mark"
   ]
  },
  {
   "cell_type": "code",
   "execution_count": 29,
   "id": "a8f940e1-3088-412f-b24a-1515b8d3e1ef",
   "metadata": {},
   "outputs": [
    {
     "data": {
      "text/plain": [
       "[0.0004146097848608205,\n",
       " 0.0006735916412783029,\n",
       " 0.0009320956177608213,\n",
       " 0.0010980426964862667,\n",
       " 0.0012660395459470827,\n",
       " 0.001392970172630639,\n",
       " 0.001549984559448256,\n",
       " 0.0016852137492105457,\n",
       " 0.0017744057380573329,\n",
       " 0.0018723356875217124,\n",
       " 0.0018723356875217124,\n",
       " 0.0018723356875217124,\n",
       " 0.0018723356875217124,\n",
       " 0.0018723356875217124,\n",
       " 0.0018723356875217124,\n",
       " 0.0018723356875217124,\n",
       " 0.0018723356875217124,\n",
       " 0.0018723356875217124,\n",
       " 0.0018723356875217124]"
      ]
     },
     "execution_count": 29,
     "metadata": {},
     "output_type": "execute_result"
    }
   ],
   "source": [
    "random_mark = []\n",
    "for K in np.arange(1, 20):\n",
    "    random_mark.extend([mark(actual, random_predictions, k=K)])\n",
    "random_mark"
   ]
  },
  {
   "cell_type": "code",
   "execution_count": 30,
   "id": "9fd3ea5c-856f-42e1-a701-1f539e0230fb",
   "metadata": {},
   "outputs": [
    {
     "data": {
      "text/plain": [
       "[0.021573720666597983,\n",
       " 0.043147441333195966,\n",
       " 0.06472116199979394,\n",
       " 0.08629488266639193,\n",
       " 0.10786860333298989,\n",
       " 0.12944232399958788,\n",
       " 0.1510160446661859,\n",
       " 0.17258976533278386,\n",
       " 0.19416348599938185,\n",
       " 0.21573720666597979,\n",
       " 0.21573720666597979,\n",
       " 0.21573720666597979,\n",
       " 0.21573720666597979,\n",
       " 0.21573720666597979,\n",
       " 0.21573720666597979,\n",
       " 0.21573720666597979,\n",
       " 0.21573720666597979,\n",
       " 0.21573720666597979,\n",
       " 0.21573720666597979]"
      ]
     },
     "execution_count": 30,
     "metadata": {},
     "output_type": "execute_result"
    }
   ],
   "source": [
    "cf_mark = []\n",
    "for K in np.arange(1, 20):\n",
    "    cf_mark.extend([mark(actual, cf_predictions, k=K)])\n",
    "cf_mark"
   ]
  },
  {
   "cell_type": "markdown",
   "id": "b8db75d7-790b-47a3-95e9-22b3a4a17d4d",
   "metadata": {},
   "source": [
    "### Визуализация MAR@K"
   ]
  },
  {
   "cell_type": "code",
   "execution_count": 31,
   "id": "5ed898ff-f1de-43b8-9c80-4858425762c0",
   "metadata": {},
   "outputs": [
    {
     "data": {
      "image/png": "[encoded data removed]",
      "text/plain": [
       "<Figure size 1080x504 with 1 Axes>"
      ]
     },
     "metadata": {
      "needs_background": "light"
     },
     "output_type": "display_data"
    }
   ],
   "source": [
    "mark_scores = [random_mark, pop_mark, cf_mark]\n",
    "index = range(1,19+1)\n",
    "names = ['Random Recommender', 'Popularity Recommender', 'Collaborative Filter']\n",
    "\n",
    "fig = plt.figure(figsize=(15, 7))\n",
    "mark_plot(mark_scores, model_names=names, k_range=index)"
   ]
  },
  {
   "cell_type": "markdown",
   "id": "b8b10bf1-eca6-4d67-9841-dafb3722bce8",
   "metadata": {},
   "source": [
    "### Coverage Plot"
   ]
  },
  {
   "cell_type": "code",
   "execution_count": 32,
   "id": "3016f178-1605-432f-a8cb-6b238eb61948",
   "metadata": {},
   "outputs": [],
   "source": [
    "catalog = ratings.movieId.unique().tolist()\n",
    "random_coverage = prediction_coverage(ran_recs, catalog)\n",
    "pop_coverage = prediction_coverage(pop_recs, catalog)\n",
    "cf_coverage = prediction_coverage(cf_recs, catalog)"
   ]
  },
  {
   "cell_type": "code",
   "execution_count": 33,
   "id": "845e62c8-dbe1-4b84-9492-7afb09ab1043",
   "metadata": {},
   "outputs": [
    {
     "data": {
      "text/plain": [
       "(19.66, 0.13, 7.59)"
      ]
     },
     "execution_count": 33,
     "metadata": {},
     "output_type": "execute_result"
    }
   ],
   "source": [
    "random_coverage, pop_coverage, cf_coverage"
   ]
  },
  {
   "cell_type": "code",
   "execution_count": 34,
   "id": "1255aef7-1c10-426c-a1fb-d5cfbcfad602",
   "metadata": {},
   "outputs": [],
   "source": [
    "# N=100 для определенного \n",
    "random_cat_coverage = catalog_coverage(ran_recs, catalog, 100)\n",
    "pop_cat_coverage = catalog_coverage(pop_recs, catalog, 100)\n",
    "cf_cat_coverage = catalog_coverage(cf_recs, catalog, 100)"
   ]
  },
  {
   "cell_type": "code",
   "execution_count": 35,
   "id": "39ac6f98-dd3d-4a7b-95ee-458f922d0fb1",
   "metadata": {},
   "outputs": [
    {
     "data": {
      "text/plain": [
       "(8.8, 0.13, 4.42)"
      ]
     },
     "execution_count": 35,
     "metadata": {},
     "output_type": "execute_result"
    }
   ],
   "source": [
    "random_cat_coverage, pop_cat_coverage, cf_cat_coverage"
   ]
  },
  {
   "cell_type": "code",
   "execution_count": 36,
   "id": "ff4a8e10-04d1-49b6-a245-8f03f4a49601",
   "metadata": {},
   "outputs": [
    {
     "data": {
      "image/png": "[encoded data removed]",
      "text/plain": [
       "<Figure size 504x360 with 1 Axes>"
      ]
     },
     "metadata": {
      "needs_background": "light"
     },
     "output_type": "display_data"
    }
   ],
   "source": [
    "# визуализация\n",
    "coverage_scores = [random_coverage, pop_coverage, cf_coverage]\n",
    "model_names = ['Random Recommender', 'Popularity Recommender', 'Collaborative Filter']\n",
    "\n",
    "fig = plt.figure(figsize=(7, 5))\n",
    "coverage_plot(coverage_scores, model_names)"
   ]
  },
  {
   "cell_type": "markdown",
   "id": "b7d0d427-3895-4815-9a15-3b17c67d604e",
   "metadata": {},
   "source": [
    "### Novelty"
   ]
  },
  {
   "cell_type": "code",
   "execution_count": 37,
   "id": "ca650492-ecad-4c01-aad1-c3333c60d084",
   "metadata": {},
   "outputs": [],
   "source": [
    "nov = ratings.movieId.value_counts()\n",
    "pop = dict(nov)"
   ]
  },
  {
   "cell_type": "code",
   "execution_count": 38,
   "id": "707574fa-75c2-4a21-a428-24aec9d0c0eb",
   "metadata": {},
   "outputs": [],
   "source": [
    "random_novelty,random_mselfinfo_list = novelty(ran_recs, pop, len(users), 10)\n",
    "pop_novelty,pop_mselfinfo_list = novelty(pop_recs, pop, len(users), 10)\n",
    "cf_novelty,cf_mselfinfo_list = novelty(cf_recs, pop, len(users), 10)"
   ]
  },
  {
   "cell_type": "code",
   "execution_count": 39,
   "id": "14daa8c6-a431-4536-8231-458fc5f2117a",
   "metadata": {},
   "outputs": [
    {
     "name": "stdout",
     "output_type": "stream",
     "text": [
      "3.5526922033852393 0.6122621797132589 1.9498610790211741\n"
     ]
    }
   ],
   "source": [
    "print(random_novelty, pop_novelty, cf_novelty)"
   ]
  },
  {
   "cell_type": "code",
   "execution_count": 40,
   "id": "d268fa99-b145-4ef9-bc3a-e99d199ccf72",
   "metadata": {},
   "outputs": [],
   "source": [
    "#### Personalization"
   ]
  },
  {
   "cell_type": "code",
   "execution_count": 41,
   "id": "90090600-7103-4bfa-b1dd-e041e0e45f9f",
   "metadata": {},
   "outputs": [],
   "source": [
    "example_predictions = [\n",
    "    ['1', '2', 'C', 'D'],\n",
    "    ['4', '3', 'm', 'X'],\n",
    "    ['7', 'B', 't', 'X']\n",
    "]"
   ]
  },
  {
   "cell_type": "code",
   "execution_count": 42,
   "id": "8756dc1c-a961-4485-a005-bcf818b4c979",
   "metadata": {},
   "outputs": [
    {
     "data": {
      "text/plain": [
       "0.9166666666666666"
      ]
     },
     "execution_count": 42,
     "metadata": {},
     "output_type": "execute_result"
    }
   ],
   "source": [
    "personalization(predicted=example_predictions)"
   ]
  },
  {
   "cell_type": "code",
   "execution_count": 43,
   "id": "669fb17c-df00-4d73-81b4-b302a0ec58f3",
   "metadata": {},
   "outputs": [],
   "source": [
    "#### Intra-list Similarity (вложенный список)"
   ]
  },
  {
   "cell_type": "code",
   "execution_count": 44,
   "id": "99e5fdff-b806-4dc1-8a37-81cc0e690429",
   "metadata": {},
   "outputs": [],
   "source": [
    "# пользователи\n",
    "example_predictions = [\n",
    "    [3, 7, 5, 9],\n",
    "    [9, 6, 12, 671],\n",
    "    [7, 4, 6, 671]\n",
    "]"
   ]
  },
  {
   "cell_type": "code",
   "execution_count": 45,
   "id": "b7c7d49b-c158-4b2f-b1eb-0a77514908d7",
   "metadata": {},
   "outputs": [],
   "source": [
    "feature_df = movies[['Action', 'Comedy', 'Romance']]"
   ]
  },
  {
   "cell_type": "code",
   "execution_count": 46,
   "id": "ad248f17-c4b3-40d9-ac5f-86a6f868d4c7",
   "metadata": {},
   "outputs": [
    {
     "data": {
      "text/plain": [
       "0.4444444444444444"
      ]
     },
     "execution_count": 46,
     "metadata": {},
     "output_type": "execute_result"
    }
   ],
   "source": [
    "intra_list_similarity(example_predictions, feature_df)"
   ]
  },
  {
   "cell_type": "markdown",
   "id": "1a7a4591-afa5-48ab-8fcd-a767e871b931",
   "metadata": {},
   "source": [
    "### Classification Probability Plot"
   ]
  },
  {
   "cell_type": "code",
   "execution_count": 47,
   "id": "aac78dce-ca87-4449-9d20-37d776ec155d",
   "metadata": {},
   "outputs": [
    {
     "data": {
      "text/html": [
       "<div>\n",
       "<style scoped>\n",
       "    .dataframe tbody tr th:only-of-type {\n",
       "        vertical-align: middle;\n",
       "    }\n",
       "\n",
       "    .dataframe tbody tr th {\n",
       "        vertical-align: top;\n",
       "    }\n",
       "\n",
       "    .dataframe thead th {\n",
       "        text-align: right;\n",
       "    }\n",
       "</style>\n",
       "<table border=\"1\" class=\"dataframe\">\n",
       "  <thead>\n",
       "    <tr style=\"text-align: right;\">\n",
       "      <th></th>\n",
       "      <th>predicted</th>\n",
       "      <th>truth</th>\n",
       "    </tr>\n",
       "  </thead>\n",
       "  <tbody>\n",
       "    <tr>\n",
       "      <th>0</th>\n",
       "      <td>0.416946</td>\n",
       "      <td>1.0</td>\n",
       "    </tr>\n",
       "    <tr>\n",
       "      <th>1</th>\n",
       "      <td>0.646010</td>\n",
       "      <td>1.0</td>\n",
       "    </tr>\n",
       "    <tr>\n",
       "      <th>2</th>\n",
       "      <td>0.949423</td>\n",
       "      <td>1.0</td>\n",
       "    </tr>\n",
       "    <tr>\n",
       "      <th>3</th>\n",
       "      <td>0.769791</td>\n",
       "      <td>1.0</td>\n",
       "    </tr>\n",
       "    <tr>\n",
       "      <th>4</th>\n",
       "      <td>0.579441</td>\n",
       "      <td>1.0</td>\n",
       "    </tr>\n",
       "  </tbody>\n",
       "</table>\n",
       "</div>"
      ],
      "text/plain": [
       "   predicted  truth\n",
       "0   0.416946    1.0\n",
       "1   0.646010    1.0\n",
       "2   0.949423    1.0\n",
       "3   0.769791    1.0\n",
       "4   0.579441    1.0"
      ]
     },
     "execution_count": 47,
     "metadata": {},
     "output_type": "execute_result"
    }
   ],
   "source": [
    "class_one_probs = np.random.normal(loc=.7, scale=0.1, size=1000)\n",
    "class_zero_probs = np.random.normal(loc=.3, scale=0.1, size=1000)\n",
    "actual = [1] * 1000\n",
    "class_zero_actual = [0] * 1000\n",
    "actual.extend(class_zero_actual)\n",
    "\n",
    "pred_df = pd.DataFrame([np.concatenate((class_one_probs, class_zero_probs), axis=None), actual]).T\n",
    "pred_df.columns = [\"predicted\", \"truth\"]\n",
    "pred_df.head()"
   ]
  },
  {
   "cell_type": "code",
   "execution_count": 48,
   "id": "47373dca-bf31-4ece-a6ec-7f6148a6f7eb",
   "metadata": {},
   "outputs": [
    {
     "data": {
      "image/png": "[encoded data removed]",
      "text/plain": [
       "<Figure size 720x432 with 1 Axes>"
      ]
     },
     "metadata": {
      "needs_background": "light"
     },
     "output_type": "display_data"
    }
   ],
   "source": [
    "class_separation_plot(pred_df, n_bins=45, title=\"Class Separation Plot\")"
   ]
  },
  {
   "cell_type": "code",
   "execution_count": 49,
   "id": "f826baf3-5f82-4b7b-bea2-bf3a553eb3cb",
   "metadata": {},
   "outputs": [
    {
     "data": {
      "image/png": "[encoded data removed]",
      "text/plain": [
       "<Figure size 432x288 with 1 Axes>"
      ]
     },
     "metadata": {
      "needs_background": "light"
     },
     "output_type": "display_data"
    }
   ],
   "source": [
    "model_probs = np.concatenate([np.random.normal(loc=.2, scale=0.5, size=500), np.random.normal(loc=.9, scale=0.5, size=500)])\n",
    "actual = [0] * 500\n",
    "class_zero_actual = [1] * 500\n",
    "actual.extend(class_zero_actual)\n",
    "\n",
    "roc_plot(actual, model_probs, model_names=\"one model\",  figsize=(10, 5))"
   ]
  },
  {
   "cell_type": "code",
   "execution_count": 50,
   "id": "38fc3c80-b4c1-4d8f-9c79-050bfe7fd77a",
   "metadata": {},
   "outputs": [
    {
     "data": {
      "image/png": "[encoded data removed]",
      "text/plain": [
       "<Figure size 432x432 with 1 Axes>"
      ]
     },
     "metadata": {
      "needs_background": "light"
     },
     "output_type": "display_data"
    }
   ],
   "source": [
    "precision_recall_plot(targs=actual, preds=model_probs)"
   ]
  },
  {
   "cell_type": "code",
   "execution_count": 51,
   "id": "e4118f9b-aa1b-4a74-8374-f783b7dff4a6",
   "metadata": {},
   "outputs": [
    {
     "data": {
      "image/png": "[encoded data removed]",
      "text/plain": [
       "<Figure size 432x288 with 1 Axes>"
      ]
     },
     "metadata": {
      "needs_background": "light"
     },
     "output_type": "display_data"
    }
   ],
   "source": [
    "y_confusion_matrix = [1, 0, 0, 1, 0, 1, 0, 0, 0, 0, 1, 1, 1, 1, 0, 0, 0, 0, 0, 0, 1, 0,\n",
    "                      0, 1, 1, 1, 0, 1, 1, 1, 1, 1, 0, 0, 1, 0, 1, 0, 1, 1, 0, 0, 0, 0,\n",
    "                      1, 0, 1, 1, 0, 0, 0, 1, 1, 0, 0, 1, 0, 0, 0, 1, 0, 0, 1, 0, 1, 1,\n",
    "                      1, 0, 1, 0, 1, 0, 1, 1, 1, 0, 1, 0, 0, 0, 0, 1, 0, 1, 0, 0, 0, 1,\n",
    "                      1, 1, 1, 0, 0, 0, 0, 1, 1, 0, 1, 1]\n",
    "\n",
    "yhat_confusion_matrix = [0, 1, 0, 0, 0, 0, 1, 1, 0, 0, 1, 0, 1, 0, 1, 1, 1, 1, 0, 1, 0, 1,\n",
    "                         0, 1, 0, 1, 0, 1, 0, 0, 1, 1, 0, 0, 1, 0, 0, 1, 0, 0, 0, 1, 0, 1,\n",
    "                         1, 0, 0, 1, 0, 0, 0, 1, 0, 0, 0, 1, 0, 0, 0, 0, 0, 1, 0, 0, 1, 1,\n",
    "                         1, 1, 0, 1, 0, 1, 0, 1, 1, 1, 1, 0, 1, 0, 0, 1, 1, 1, 0, 1, 1, 0,\n",
    "                         1, 1, 0, 0, 0, 1, 0, 0, 0, 1, 1, 1]\n",
    "\n",
    "\n",
    "make_confusion_matrix(y=y_confusion_matrix, yhat=yhat_confusion_matrix)"
   ]
  },
  {
   "cell_type": "code",
   "execution_count": 53,
   "id": "a2b9331a-64e6-4d5f-9c30-98cfd73975e3",
   "metadata": {},
   "outputs": [
    {
     "data": {
      "application/vnd.plotly.v1+json": {
       "config": {
        "plotlyServerURL": "https://plot.ly"
       },
       "data": [
        {
         "fill": "tonext",
         "name": "Model A",
         "r": [
          19.66,
          43,
          23
         ],
         "theta": [
          "coverage",
          "personalization",
          "intra list similarity"
         ],
         "type": "scatterpolar"
        },
        {
         "fill": "tonext",
         "name": "Model B",
         "r": [
          0.13,
          23,
          21
         ],
         "theta": [
          "coverage",
          "personalization",
          "intra list similarity"
         ],
         "type": "scatterpolar"
        },
        {
         "fill": "tonext",
         "name": "Model C",
         "r": [
          7.59,
          44,
          69
         ],
         "theta": [
          "coverage",
          "personalization",
          "intra list similarity"
         ],
         "type": "scatterpolar"
        }
       ],
       "layout": {
        "autosize": true,
        "polar": {
         "angularaxis": {
          "type": "category"
         },
         "radialaxis": {
          "autorange": false,
          "range": [
           0,
           100
          ],
          "type": "linear",
          "visible": true
         }
        },
        "showlegend": true,
        "template": {
         "data": {
          "bar": [
           {
            "error_x": {
             "color": "#2a3f5f"
            },
            "error_y": {
             "color": "#2a3f5f"
            },
            "marker": {
             "line": {
              "color": "#E5ECF6",
              "width": 0.5
             },
             "pattern": {
              "fillmode": "overlay",
              "size": 10,
              "solidity": 0.2
             }
            },
            "type": "bar"
           }
          ],
          "barpolar": [
           {
            "marker": {
             "line": {
              "color": "#E5ECF6",
              "width": 0.5
             },
             "pattern": {
              "fillmode": "overlay",
              "size": 10,
              "solidity": 0.2
             }
            },
            "type": "barpolar"
           }
          ],
          "carpet": [
           {
            "aaxis": {
             "endlinecolor": "#2a3f5f",
             "gridcolor": "white",
             "linecolor": "white",
             "minorgridcolor": "white",
             "startlinecolor": "#2a3f5f"
            },
            "baxis": {
             "endlinecolor": "#2a3f5f",
             "gridcolor": "white",
             "linecolor": "white",
             "minorgridcolor": "white",
             "startlinecolor": "#2a3f5f"
            },
            "type": "carpet"
           }
          ],
          "choropleth": [
           {
            "colorbar": {
             "outlinewidth": 0,
             "ticks": ""
            },
            "type": "choropleth"
           }
          ],
          "contour": [
           {
            "colorbar": {
             "outlinewidth": 0,
             "ticks": ""
            },
            "colorscale": [
             [
              0,
              "#0d0887"
             ],
             [
              0.1111111111111111,
              "#46039f"
             ],
             [
              0.2222222222222222,
              "#7201a8"
             ],
             [
              0.3333333333333333,
              "#9c179e"
             ],
             [
              0.4444444444444444,
              "#bd3786"
             ],
             [
              0.5555555555555556,
              "#d8576b"
             ],
             [
              0.6666666666666666,
              "#ed7953"
             ],
             [
              0.7777777777777778,
              "#fb9f3a"
             ],
             [
              0.8888888888888888,
              "#fdca26"
             ],
             [
              1,
              "#f0f921"
             ]
            ],
            "type": "contour"
           }
          ],
          "contourcarpet": [
           {
            "colorbar": {
             "outlinewidth": 0,
             "ticks": ""
            },
            "type": "contourcarpet"
           }
          ],
          "heatmap": [
           {
            "colorbar": {
             "outlinewidth": 0,
             "ticks": ""
            },
            "colorscale": [
             [
              0,
              "#0d0887"
             ],
             [
              0.1111111111111111,
              "#46039f"
             ],
             [
              0.2222222222222222,
              "#7201a8"
             ],
             [
              0.3333333333333333,
              "#9c179e"
             ],
             [
              0.4444444444444444,
              "#bd3786"
             ],
             [
              0.5555555555555556,
              "#d8576b"
             ],
             [
              0.6666666666666666,
              "#ed7953"
             ],
             [
              0.7777777777777778,
              "#fb9f3a"
             ],
             [
              0.8888888888888888,
              "#fdca26"
             ],
             [
              1,
              "#f0f921"
             ]
            ],
            "type": "heatmap"
           }
          ],
          "heatmapgl": [
           {
            "colorbar": {
             "outlinewidth": 0,
             "ticks": ""
            },
            "colorscale": [
             [
              0,
              "#0d0887"
             ],
             [
              0.1111111111111111,
              "#46039f"
             ],
             [
              0.2222222222222222,
              "#7201a8"
             ],
             [
              0.3333333333333333,
              "#9c179e"
             ],
             [
              0.4444444444444444,
              "#bd3786"
             ],
             [
              0.5555555555555556,
              "#d8576b"
             ],
             [
              0.6666666666666666,
              "#ed7953"
             ],
             [
              0.7777777777777778,
              "#fb9f3a"
             ],
             [
              0.8888888888888888,
              "#fdca26"
             ],
             [
              1,
              "#f0f921"
             ]
            ],
            "type": "heatmapgl"
           }
          ],
          "histogram": [
           {
            "marker": {
             "pattern": {
              "fillmode": "overlay",
              "size": 10,
              "solidity": 0.2
             }
            },
            "type": "histogram"
           }
          ],
          "histogram2d": [
           {
            "colorbar": {
             "outlinewidth": 0,
             "ticks": ""
            },
            "colorscale": [
             [
              0,
              "#0d0887"
             ],
             [
              0.1111111111111111,
              "#46039f"
             ],
             [
              0.2222222222222222,
              "#7201a8"
             ],
             [
              0.3333333333333333,
              "#9c179e"
             ],
             [
              0.4444444444444444,
              "#bd3786"
             ],
             [
              0.5555555555555556,
              "#d8576b"
             ],
             [
              0.6666666666666666,
              "#ed7953"
             ],
             [
              0.7777777777777778,
              "#fb9f3a"
             ],
             [
              0.8888888888888888,
              "#fdca26"
             ],
             [
              1,
              "#f0f921"
             ]
            ],
            "type": "histogram2d"
           }
          ],
          "histogram2dcontour": [
           {
            "colorbar": {
             "outlinewidth": 0,
             "ticks": ""
            },
            "colorscale": [
             [
              0,
              "#0d0887"
             ],
             [
              0.1111111111111111,
              "#46039f"
             ],
             [
              0.2222222222222222,
              "#7201a8"
             ],
             [
              0.3333333333333333,
              "#9c179e"
             ],
             [
              0.4444444444444444,
              "#bd3786"
             ],
             [
              0.5555555555555556,
              "#d8576b"
             ],
             [
              0.6666666666666666,
              "#ed7953"
             ],
             [
              0.7777777777777778,
              "#fb9f3a"
             ],
             [
              0.8888888888888888,
              "#fdca26"
             ],
             [
              1,
              "#f0f921"
             ]
            ],
            "type": "histogram2dcontour"
           }
          ],
          "mesh3d": [
           {
            "colorbar": {
             "outlinewidth": 0,
             "ticks": ""
            },
            "type": "mesh3d"
           }
          ],
          "parcoords": [
           {
            "line": {
             "colorbar": {
              "outlinewidth": 0,
              "ticks": ""
             }
            },
            "type": "parcoords"
           }
          ],
          "pie": [
           {
            "automargin": true,
            "type": "pie"
           }
          ],
          "scatter": [
           {
            "fillpattern": {
             "fillmode": "overlay",
             "size": 10,
             "solidity": 0.2
            },
            "type": "scatter"
           }
          ],
          "scatter3d": [
           {
            "line": {
             "colorbar": {
              "outlinewidth": 0,
              "ticks": ""
             }
            },
            "marker": {
             "colorbar": {
              "outlinewidth": 0,
              "ticks": ""
             }
            },
            "type": "scatter3d"
           }
          ],
          "scattercarpet": [
           {
            "marker": {
             "colorbar": {
              "outlinewidth": 0,
              "ticks": ""
             }
            },
            "type": "scattercarpet"
           }
          ],
          "scattergeo": [
           {
            "marker": {
             "colorbar": {
              "outlinewidth": 0,
              "ticks": ""
             }
            },
            "type": "scattergeo"
           }
          ],
          "scattergl": [
           {
            "marker": {
             "colorbar": {
              "outlinewidth": 0,
              "ticks": ""
             }
            },
            "type": "scattergl"
           }
          ],
          "scattermapbox": [
           {
            "marker": {
             "colorbar": {
              "outlinewidth": 0,
              "ticks": ""
             }
            },
            "type": "scattermapbox"
           }
          ],
          "scatterpolar": [
           {
            "marker": {
             "colorbar": {
              "outlinewidth": 0,
              "ticks": ""
             }
            },
            "type": "scatterpolar"
           }
          ],
          "scatterpolargl": [
           {
            "marker": {
             "colorbar": {
              "outlinewidth": 0,
              "ticks": ""
             }
            },
            "type": "scatterpolargl"
           }
          ],
          "scatterternary": [
           {
            "marker": {
             "colorbar": {
              "outlinewidth": 0,
              "ticks": ""
             }
            },
            "type": "scatterternary"
           }
          ],
          "surface": [
           {
            "colorbar": {
             "outlinewidth": 0,
             "ticks": ""
            },
            "colorscale": [
             [
              0,
              "#0d0887"
             ],
             [
              0.1111111111111111,
              "#46039f"
             ],
             [
              0.2222222222222222,
              "#7201a8"
             ],
             [
              0.3333333333333333,
              "#9c179e"
             ],
             [
              0.4444444444444444,
              "#bd3786"
             ],
             [
              0.5555555555555556,
              "#d8576b"
             ],
             [
              0.6666666666666666,
              "#ed7953"
             ],
             [
              0.7777777777777778,
              "#fb9f3a"
             ],
             [
              0.8888888888888888,
              "#fdca26"
             ],
             [
              1,
              "#f0f921"
             ]
            ],
            "type": "surface"
           }
          ],
          "table": [
           {
            "cells": {
             "fill": {
              "color": "#EBF0F8"
             },
             "line": {
              "color": "white"
             }
            },
            "header": {
             "fill": {
              "color": "#C8D4E3"
             },
             "line": {
              "color": "white"
             }
            },
            "type": "table"
           }
          ]
         },
         "layout": {
          "annotationdefaults": {
           "arrowcolor": "#2a3f5f",
           "arrowhead": 0,
           "arrowwidth": 1
          },
          "autotypenumbers": "strict",
          "coloraxis": {
           "colorbar": {
            "outlinewidth": 0,
            "ticks": ""
           }
          },
          "colorscale": {
           "diverging": [
            [
             0,
             "#8e0152"
            ],
            [
             0.1,
             "#c51b7d"
            ],
            [
             0.2,
             "#de77ae"
            ],
            [
             0.3,
             "#f1b6da"
            ],
            [
             0.4,
             "#fde0ef"
            ],
            [
             0.5,
             "#f7f7f7"
            ],
            [
             0.6,
             "#e6f5d0"
            ],
            [
             0.7,
             "#b8e186"
            ],
            [
             0.8,
             "#7fbc41"
            ],
            [
             0.9,
             "#4d9221"
            ],
            [
             1,
             "#276419"
            ]
           ],
           "sequential": [
            [
             0,
             "#0d0887"
            ],
            [
             0.1111111111111111,
             "#46039f"
            ],
            [
             0.2222222222222222,
             "#7201a8"
            ],
            [
             0.3333333333333333,
             "#9c179e"
            ],
            [
             0.4444444444444444,
             "#bd3786"
            ],
            [
             0.5555555555555556,
             "#d8576b"
            ],
            [
             0.6666666666666666,
             "#ed7953"
            ],
            [
             0.7777777777777778,
             "#fb9f3a"
            ],
            [
             0.8888888888888888,
             "#fdca26"
            ],
            [
             1,
             "#f0f921"
            ]
           ],
           "sequentialminus": [
            [
             0,
             "#0d0887"
            ],
            [
             0.1111111111111111,
             "#46039f"
            ],
            [
             0.2222222222222222,
             "#7201a8"
            ],
            [
             0.3333333333333333,
             "#9c179e"
            ],
            [
             0.4444444444444444,
             "#bd3786"
            ],
            [
             0.5555555555555556,
             "#d8576b"
            ],
            [
             0.6666666666666666,
             "#ed7953"
            ],
            [
             0.7777777777777778,
             "#fb9f3a"
            ],
            [
             0.8888888888888888,
             "#fdca26"
            ],
            [
             1,
             "#f0f921"
            ]
           ]
          },
          "colorway": [
           "#636efa",
           "#EF553B",
           "#00cc96",
           "#ab63fa",
           "#FFA15A",
           "#19d3f3",
           "#FF6692",
           "#B6E880",
           "#FF97FF",
           "#FECB52"
          ],
          "font": {
           "color": "#2a3f5f"
          },
          "geo": {
           "bgcolor": "white",
           "lakecolor": "white",
           "landcolor": "#E5ECF6",
           "showlakes": true,
           "showland": true,
           "subunitcolor": "white"
          },
          "hoverlabel": {
           "align": "left"
          },
          "hovermode": "closest",
          "mapbox": {
           "style": "light"
          },
          "paper_bgcolor": "white",
          "plot_bgcolor": "#E5ECF6",
          "polar": {
           "angularaxis": {
            "gridcolor": "white",
            "linecolor": "white",
            "ticks": ""
           },
           "bgcolor": "#E5ECF6",
           "radialaxis": {
            "gridcolor": "white",
            "linecolor": "white",
            "ticks": ""
           }
          },
          "scene": {
           "xaxis": {
            "backgroundcolor": "#E5ECF6",
            "gridcolor": "white",
            "gridwidth": 2,
            "linecolor": "white",
            "showbackground": true,
            "ticks": "",
            "zerolinecolor": "white"
           },
           "yaxis": {
            "backgroundcolor": "#E5ECF6",
            "gridcolor": "white",
            "gridwidth": 2,
            "linecolor": "white",
            "showbackground": true,
            "ticks": "",
            "zerolinecolor": "white"
           },
           "zaxis": {
            "backgroundcolor": "#E5ECF6",
            "gridcolor": "white",
            "gridwidth": 2,
            "linecolor": "white",
            "showbackground": true,
            "ticks": "",
            "zerolinecolor": "white"
           }
          },
          "shapedefaults": {
           "line": {
            "color": "#2a3f5f"
           }
          },
          "ternary": {
           "aaxis": {
            "gridcolor": "white",
            "linecolor": "white",
            "ticks": ""
           },
           "baxis": {
            "gridcolor": "white",
            "linecolor": "white",
            "ticks": ""
           },
           "bgcolor": "#E5ECF6",
           "caxis": {
            "gridcolor": "white",
            "linecolor": "white",
            "ticks": ""
           }
          },
          "title": {
           "x": 0.05
          },
          "xaxis": {
           "automargin": true,
           "gridcolor": "white",
           "linecolor": "white",
           "ticks": "",
           "title": {
            "standoff": 15
           },
           "zerolinecolor": "white",
           "zerolinewidth": 2
          },
          "yaxis": {
           "automargin": true,
           "gridcolor": "white",
           "linecolor": "white",
           "ticks": "",
           "title": {
            "standoff": 15
           },
           "zerolinecolor": "white",
           "zerolinewidth": 2
          }
         }
        }
       }
      },
      "image/png": "[encoded data removed]",
      "text/html": [
       "<div>                            <div id=\"5d0a0b55-cd32-4899-afe3-f8c47c143c82\" class=\"plotly-graph-div\" style=\"height:525px; width:100%;\"></div>            <script type=\"text/javascript\">                require([\"plotly\"], function(Plotly) {                    window.PLOTLYENV=window.PLOTLYENV || {};                                    if (document.getElementById(\"5d0a0b55-cd32-4899-afe3-f8c47c143c82\")) {                    Plotly.newPlot(                        \"5d0a0b55-cd32-4899-afe3-f8c47c143c82\",                        [{\"fill\":\"tonext\",\"name\":\"Model A\",\"r\":[19.66,43.0,23.0],\"theta\":[\"coverage\",\"personalization\",\"intra list similarity\"],\"type\":\"scatterpolar\"},{\"fill\":\"tonext\",\"name\":\"Model B\",\"r\":[0.13,23.0,21.0],\"theta\":[\"coverage\",\"personalization\",\"intra list similarity\"],\"type\":\"scatterpolar\"},{\"fill\":\"tonext\",\"name\":\"Model C\",\"r\":[7.59,44.0,69.0],\"theta\":[\"coverage\",\"personalization\",\"intra list similarity\"],\"type\":\"scatterpolar\"}],                        {\"template\":{\"data\":{\"histogram2dcontour\":[{\"type\":\"histogram2dcontour\",\"colorbar\":{\"outlinewidth\":0,\"ticks\":\"\"},\"colorscale\":[[0.0,\"#0d0887\"],[0.1111111111111111,\"#46039f\"],[0.2222222222222222,\"#7201a8\"],[0.3333333333333333,\"#9c179e\"],[0.4444444444444444,\"#bd3786\"],[0.5555555555555556,\"#d8576b\"],[0.6666666666666666,\"#ed7953\"],[0.7777777777777778,\"#fb9f3a\"],[0.8888888888888888,\"#fdca26\"],[1.0,\"#f0f921\"]]}],\"choropleth\":[{\"type\":\"choropleth\",\"colorbar\":{\"outlinewidth\":0,\"ticks\":\"\"}}],\"histogram2d\":[{\"type\":\"histogram2d\",\"colorbar\":{\"outlinewidth\":0,\"ticks\":\"\"},\"colorscale\":[[0.0,\"#0d0887\"],[0.1111111111111111,\"#46039f\"],[0.2222222222222222,\"#7201a8\"],[0.3333333333333333,\"#9c179e\"],[0.4444444444444444,\"#bd3786\"],[0.5555555555555556,\"#d8576b\"],[0.6666666666666666,\"#ed7953\"],[0.7777777777777778,\"#fb9f3a\"],[0.8888888888888888,\"#fdca26\"],[1.0,\"#f0f921\"]]}],\"heatmap\":[{\"type\":\"heatmap\",\"colorbar\":{\"outlinewidth\":0,\"ticks\":\"\"},\"colorscale\":[[0.0,\"#0d0887\"],[0.1111111111111111,\"#46039f\"],[0.2222222222222222,\"#7201a8\"],[0.3333333333333333,\"#9c179e\"],[0.4444444444444444,\"#bd3786\"],[0.5555555555555556,\"#d8576b\"],[0.6666666666666666,\"#ed7953\"],[0.7777777777777778,\"#fb9f3a\"],[0.8888888888888888,\"#fdca26\"],[1.0,\"#f0f921\"]]}],\"heatmapgl\":[{\"type\":\"heatmapgl\",\"colorbar\":{\"outlinewidth\":0,\"ticks\":\"\"},\"colorscale\":[[0.0,\"#0d0887\"],[0.1111111111111111,\"#46039f\"],[0.2222222222222222,\"#7201a8\"],[0.3333333333333333,\"#9c179e\"],[0.4444444444444444,\"#bd3786\"],[0.5555555555555556,\"#d8576b\"],[0.6666666666666666,\"#ed7953\"],[0.7777777777777778,\"#fb9f3a\"],[0.8888888888888888,\"#fdca26\"],[1.0,\"#f0f921\"]]}],\"contourcarpet\":[{\"type\":\"contourcarpet\",\"colorbar\":{\"outlinewidth\":0,\"ticks\":\"\"}}],\"contour\":[{\"type\":\"contour\",\"colorbar\":{\"outlinewidth\":0,\"ticks\":\"\"},\"colorscale\":[[0.0,\"#0d0887\"],[0.1111111111111111,\"#46039f\"],[0.2222222222222222,\"#7201a8\"],[0.3333333333333333,\"#9c179e\"],[0.4444444444444444,\"#bd3786\"],[0.5555555555555556,\"#d8576b\"],[0.6666666666666666,\"#ed7953\"],[0.7777777777777778,\"#fb9f3a\"],[0.8888888888888888,\"#fdca26\"],[1.0,\"#f0f921\"]]}],\"surface\":[{\"type\":\"surface\",\"colorbar\":{\"outlinewidth\":0,\"ticks\":\"\"},\"colorscale\":[[0.0,\"#0d0887\"],[0.1111111111111111,\"#46039f\"],[0.2222222222222222,\"#7201a8\"],[0.3333333333333333,\"#9c179e\"],[0.4444444444444444,\"#bd3786\"],[0.5555555555555556,\"#d8576b\"],[0.6666666666666666,\"#ed7953\"],[0.7777777777777778,\"#fb9f3a\"],[0.8888888888888888,\"#fdca26\"],[1.0,\"#f0f921\"]]}],\"mesh3d\":[{\"type\":\"mesh3d\",\"colorbar\":{\"outlinewidth\":0,\"ticks\":\"\"}}],\"scatter\":[{\"fillpattern\":{\"fillmode\":\"overlay\",\"size\":10,\"solidity\":0.2},\"type\":\"scatter\"}],\"parcoords\":[{\"type\":\"parcoords\",\"line\":{\"colorbar\":{\"outlinewidth\":0,\"ticks\":\"\"}}}],\"scatterpolargl\":[{\"type\":\"scatterpolargl\",\"marker\":{\"colorbar\":{\"outlinewidth\":0,\"ticks\":\"\"}}}],\"bar\":[{\"error_x\":{\"color\":\"#2a3f5f\"},\"error_y\":{\"color\":\"#2a3f5f\"},\"marker\":{\"line\":{\"color\":\"#E5ECF6\",\"width\":0.5},\"pattern\":{\"fillmode\":\"overlay\",\"size\":10,\"solidity\":0.2}},\"type\":\"bar\"}],\"scattergeo\":[{\"type\":\"scattergeo\",\"marker\":{\"colorbar\":{\"outlinewidth\":0,\"ticks\":\"\"}}}],\"scatterpolar\":[{\"type\":\"scatterpolar\",\"marker\":{\"colorbar\":{\"outlinewidth\":0,\"ticks\":\"\"}}}],\"histogram\":[{\"marker\":{\"pattern\":{\"fillmode\":\"overlay\",\"size\":10,\"solidity\":0.2}},\"type\":\"histogram\"}],\"scattergl\":[{\"type\":\"scattergl\",\"marker\":{\"colorbar\":{\"outlinewidth\":0,\"ticks\":\"\"}}}],\"scatter3d\":[{\"type\":\"scatter3d\",\"line\":{\"colorbar\":{\"outlinewidth\":0,\"ticks\":\"\"}},\"marker\":{\"colorbar\":{\"outlinewidth\":0,\"ticks\":\"\"}}}],\"scattermapbox\":[{\"type\":\"scattermapbox\",\"marker\":{\"colorbar\":{\"outlinewidth\":0,\"ticks\":\"\"}}}],\"scatterternary\":[{\"type\":\"scatterternary\",\"marker\":{\"colorbar\":{\"outlinewidth\":0,\"ticks\":\"\"}}}],\"scattercarpet\":[{\"type\":\"scattercarpet\",\"marker\":{\"colorbar\":{\"outlinewidth\":0,\"ticks\":\"\"}}}],\"carpet\":[{\"aaxis\":{\"endlinecolor\":\"#2a3f5f\",\"gridcolor\":\"white\",\"linecolor\":\"white\",\"minorgridcolor\":\"white\",\"startlinecolor\":\"#2a3f5f\"},\"baxis\":{\"endlinecolor\":\"#2a3f5f\",\"gridcolor\":\"white\",\"linecolor\":\"white\",\"minorgridcolor\":\"white\",\"startlinecolor\":\"#2a3f5f\"},\"type\":\"carpet\"}],\"table\":[{\"cells\":{\"fill\":{\"color\":\"#EBF0F8\"},\"line\":{\"color\":\"white\"}},\"header\":{\"fill\":{\"color\":\"#C8D4E3\"},\"line\":{\"color\":\"white\"}},\"type\":\"table\"}],\"barpolar\":[{\"marker\":{\"line\":{\"color\":\"#E5ECF6\",\"width\":0.5},\"pattern\":{\"fillmode\":\"overlay\",\"size\":10,\"solidity\":0.2}},\"type\":\"barpolar\"}],\"pie\":[{\"automargin\":true,\"type\":\"pie\"}]},\"layout\":{\"autotypenumbers\":\"strict\",\"colorway\":[\"#636efa\",\"#EF553B\",\"#00cc96\",\"#ab63fa\",\"#FFA15A\",\"#19d3f3\",\"#FF6692\",\"#B6E880\",\"#FF97FF\",\"#FECB52\"],\"font\":{\"color\":\"#2a3f5f\"},\"hovermode\":\"closest\",\"hoverlabel\":{\"align\":\"left\"},\"paper_bgcolor\":\"white\",\"plot_bgcolor\":\"#E5ECF6\",\"polar\":{\"bgcolor\":\"#E5ECF6\",\"angularaxis\":{\"gridcolor\":\"white\",\"linecolor\":\"white\",\"ticks\":\"\"},\"radialaxis\":{\"gridcolor\":\"white\",\"linecolor\":\"white\",\"ticks\":\"\"}},\"ternary\":{\"bgcolor\":\"#E5ECF6\",\"aaxis\":{\"gridcolor\":\"white\",\"linecolor\":\"white\",\"ticks\":\"\"},\"baxis\":{\"gridcolor\":\"white\",\"linecolor\":\"white\",\"ticks\":\"\"},\"caxis\":{\"gridcolor\":\"white\",\"linecolor\":\"white\",\"ticks\":\"\"}},\"coloraxis\":{\"colorbar\":{\"outlinewidth\":0,\"ticks\":\"\"}},\"colorscale\":{\"sequential\":[[0.0,\"#0d0887\"],[0.1111111111111111,\"#46039f\"],[0.2222222222222222,\"#7201a8\"],[0.3333333333333333,\"#9c179e\"],[0.4444444444444444,\"#bd3786\"],[0.5555555555555556,\"#d8576b\"],[0.6666666666666666,\"#ed7953\"],[0.7777777777777778,\"#fb9f3a\"],[0.8888888888888888,\"#fdca26\"],[1.0,\"#f0f921\"]],\"sequentialminus\":[[0.0,\"#0d0887\"],[0.1111111111111111,\"#46039f\"],[0.2222222222222222,\"#7201a8\"],[0.3333333333333333,\"#9c179e\"],[0.4444444444444444,\"#bd3786\"],[0.5555555555555556,\"#d8576b\"],[0.6666666666666666,\"#ed7953\"],[0.7777777777777778,\"#fb9f3a\"],[0.8888888888888888,\"#fdca26\"],[1.0,\"#f0f921\"]],\"diverging\":[[0,\"#8e0152\"],[0.1,\"#c51b7d\"],[0.2,\"#de77ae\"],[0.3,\"#f1b6da\"],[0.4,\"#fde0ef\"],[0.5,\"#f7f7f7\"],[0.6,\"#e6f5d0\"],[0.7,\"#b8e186\"],[0.8,\"#7fbc41\"],[0.9,\"#4d9221\"],[1,\"#276419\"]]},\"xaxis\":{\"gridcolor\":\"white\",\"linecolor\":\"white\",\"ticks\":\"\",\"title\":{\"standoff\":15},\"zerolinecolor\":\"white\",\"automargin\":true,\"zerolinewidth\":2},\"yaxis\":{\"gridcolor\":\"white\",\"linecolor\":\"white\",\"ticks\":\"\",\"title\":{\"standoff\":15},\"zerolinecolor\":\"white\",\"automargin\":true,\"zerolinewidth\":2},\"scene\":{\"xaxis\":{\"backgroundcolor\":\"#E5ECF6\",\"gridcolor\":\"white\",\"linecolor\":\"white\",\"showbackground\":true,\"ticks\":\"\",\"zerolinecolor\":\"white\",\"gridwidth\":2},\"yaxis\":{\"backgroundcolor\":\"#E5ECF6\",\"gridcolor\":\"white\",\"linecolor\":\"white\",\"showbackground\":true,\"ticks\":\"\",\"zerolinecolor\":\"white\",\"gridwidth\":2},\"zaxis\":{\"backgroundcolor\":\"#E5ECF6\",\"gridcolor\":\"white\",\"linecolor\":\"white\",\"showbackground\":true,\"ticks\":\"\",\"zerolinecolor\":\"white\",\"gridwidth\":2}},\"shapedefaults\":{\"line\":{\"color\":\"#2a3f5f\"}},\"annotationdefaults\":{\"arrowcolor\":\"#2a3f5f\",\"arrowhead\":0,\"arrowwidth\":1},\"geo\":{\"bgcolor\":\"white\",\"landcolor\":\"#E5ECF6\",\"subunitcolor\":\"white\",\"showland\":true,\"showlakes\":true,\"lakecolor\":\"white\"},\"title\":{\"x\":0.05},\"mapbox\":{\"style\":\"light\"}}},\"polar\":{\"radialaxis\":{\"visible\":true,\"range\":[0,100]}},\"showlegend\":true},                        {\"responsive\": true}                    ).then(function(){\n",
       "                            \n",
       "var gd = document.getElementById('5d0a0b55-cd32-4899-afe3-f8c47c143c82');\n",
       "var x = new MutationObserver(function (mutations, observer) {{\n",
       "        var display = window.getComputedStyle(gd).display;\n",
       "        if (!display || display === 'none') {{\n",
       "            console.log([gd, 'removed!']);\n",
       "            Plotly.purge(gd);\n",
       "            observer.disconnect();\n",
       "        }}\n",
       "}});\n",
       "\n",
       "// Listen for the removal of the full notebook cells\n",
       "var notebookContainer = gd.closest('#notebook-container');\n",
       "if (notebookContainer) {{\n",
       "    x.observe(notebookContainer, {childList: true});\n",
       "}}\n",
       "\n",
       "// Listen for the clearing of the current output cell\n",
       "var outputEl = gd.closest('.output');\n",
       "if (outputEl) {{\n",
       "    x.observe(outputEl, {childList: true});\n",
       "}}\n",
       "\n",
       "                        })                };                });            </script>        </div>"
      ]
     },
     "metadata": {},
     "output_type": "display_data"
    }
   ],
   "source": [
    "metrics_plot(model_names=['Model A', 'Model B', 'Model C'],\n",
    "             coverage_scores=[19.66, 0.13, 7.59],\n",
    "             personalization_scores=[0.43, 0.23, 0.44],\n",
    "             intra_list_similarity_scores = [0.23, 0.21, 0.69])"
   ]
  },
  {
   "cell_type": "code",
   "execution_count": null,
   "id": "b7f5b06a-c779-4763-9fbf-84e2f0926a68",
   "metadata": {},
   "outputs": [],
   "source": []
  }
 ],
 "metadata": {
  "kernelspec": {
   "display_name": "Python 3 (ipykernel)",
   "language": "python",
   "name": "python3"
  },
  "language_info": {
   "codemirror_mode": {
    "name": "ipython",
    "version": 3
   },
   "file_extension": ".py",
   "mimetype": "text/x-python",
   "name": "python",
   "nbconvert_exporter": "python",
   "pygments_lexer": "ipython3",
   "version": "3.8.10"
  }
 },
 "nbformat": 4,
 "nbformat_minor": 5
}
