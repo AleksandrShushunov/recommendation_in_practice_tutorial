{
 "cells": [
  {
   "cell_type": "code",
   "execution_count": 1,
   "id": "41f44bac-b3d5-4a68-8a22-73c628f38714",
   "metadata": {},
   "outputs": [],
   "source": [
    "import pandas as pd\n",
    "import numpy as np\n",
    "import random\n",
    "from tqdm import tqdm\n",
    "import sklearn.manifold\n",
    "from gensim.models import Word2Vec \n",
    "import matplotlib.pyplot as plt\n",
    "import seaborn as sns\n",
    "%matplotlib inline\n",
    "sns.set_context(\"poster\")\n",
    "\n",
    "import warnings;\n",
    "warnings.filterwarnings('ignore')"
   ]
  },
  {
   "cell_type": "code",
   "execution_count": 2,
   "id": "b14639d0-fa4e-4fe5-ab32-6d1b9910ba0b",
   "metadata": {},
   "outputs": [
    {
     "data": {
      "text/html": [
       "<div>\n",
       "<style scoped>\n",
       "    .dataframe tbody tr th:only-of-type {\n",
       "        vertical-align: middle;\n",
       "    }\n",
       "\n",
       "    .dataframe tbody tr th {\n",
       "        vertical-align: top;\n",
       "    }\n",
       "\n",
       "    .dataframe thead th {\n",
       "        text-align: right;\n",
       "    }\n",
       "</style>\n",
       "<table border=\"1\" class=\"dataframe\">\n",
       "  <thead>\n",
       "    <tr style=\"text-align: right;\">\n",
       "      <th></th>\n",
       "      <th>InvoiceNo</th>\n",
       "      <th>StockCode</th>\n",
       "      <th>Description</th>\n",
       "      <th>Quantity</th>\n",
       "      <th>InvoiceDate</th>\n",
       "      <th>UnitPrice</th>\n",
       "      <th>CustomerID</th>\n",
       "      <th>Country</th>\n",
       "    </tr>\n",
       "  </thead>\n",
       "  <tbody>\n",
       "    <tr>\n",
       "      <th>0</th>\n",
       "      <td>536365</td>\n",
       "      <td>85123A</td>\n",
       "      <td>WHITE HANGING HEART T-LIGHT HOLDER</td>\n",
       "      <td>6</td>\n",
       "      <td>2010-12-01 08:26:00</td>\n",
       "      <td>2.55</td>\n",
       "      <td>17850.0</td>\n",
       "      <td>United Kingdom</td>\n",
       "    </tr>\n",
       "    <tr>\n",
       "      <th>1</th>\n",
       "      <td>536365</td>\n",
       "      <td>71053</td>\n",
       "      <td>WHITE METAL LANTERN</td>\n",
       "      <td>6</td>\n",
       "      <td>2010-12-01 08:26:00</td>\n",
       "      <td>3.39</td>\n",
       "      <td>17850.0</td>\n",
       "      <td>United Kingdom</td>\n",
       "    </tr>\n",
       "    <tr>\n",
       "      <th>2</th>\n",
       "      <td>536365</td>\n",
       "      <td>84406B</td>\n",
       "      <td>CREAM CUPID HEARTS COAT HANGER</td>\n",
       "      <td>8</td>\n",
       "      <td>2010-12-01 08:26:00</td>\n",
       "      <td>2.75</td>\n",
       "      <td>17850.0</td>\n",
       "      <td>United Kingdom</td>\n",
       "    </tr>\n",
       "    <tr>\n",
       "      <th>3</th>\n",
       "      <td>536365</td>\n",
       "      <td>84029G</td>\n",
       "      <td>KNITTED UNION FLAG HOT WATER BOTTLE</td>\n",
       "      <td>6</td>\n",
       "      <td>2010-12-01 08:26:00</td>\n",
       "      <td>3.39</td>\n",
       "      <td>17850.0</td>\n",
       "      <td>United Kingdom</td>\n",
       "    </tr>\n",
       "    <tr>\n",
       "      <th>4</th>\n",
       "      <td>536365</td>\n",
       "      <td>84029E</td>\n",
       "      <td>RED WOOLLY HOTTIE WHITE HEART.</td>\n",
       "      <td>6</td>\n",
       "      <td>2010-12-01 08:26:00</td>\n",
       "      <td>3.39</td>\n",
       "      <td>17850.0</td>\n",
       "      <td>United Kingdom</td>\n",
       "    </tr>\n",
       "  </tbody>\n",
       "</table>\n",
       "</div>"
      ],
      "text/plain": [
       "  InvoiceNo StockCode                          Description  Quantity  \\\n",
       "0    536365    85123A   WHITE HANGING HEART T-LIGHT HOLDER         6   \n",
       "1    536365     71053                  WHITE METAL LANTERN         6   \n",
       "2    536365    84406B       CREAM CUPID HEARTS COAT HANGER         8   \n",
       "3    536365    84029G  KNITTED UNION FLAG HOT WATER BOTTLE         6   \n",
       "4    536365    84029E       RED WOOLLY HOTTIE WHITE HEART.         6   \n",
       "\n",
       "          InvoiceDate  UnitPrice  CustomerID         Country  \n",
       "0 2010-12-01 08:26:00       2.55     17850.0  United Kingdom  \n",
       "1 2010-12-01 08:26:00       3.39     17850.0  United Kingdom  \n",
       "2 2010-12-01 08:26:00       2.75     17850.0  United Kingdom  \n",
       "3 2010-12-01 08:26:00       3.39     17850.0  United Kingdom  \n",
       "4 2010-12-01 08:26:00       3.39     17850.0  United Kingdom  "
      ]
     },
     "execution_count": 2,
     "metadata": {},
     "output_type": "execute_result"
    }
   ],
   "source": [
    "df = pd.read_excel('online-retail-data.xlsx')\n",
    "df.head()"
   ]
  },
  {
   "cell_type": "markdown",
   "id": "780cc0d7-1373-4d83-9636-81447ab1b89b",
   "metadata": {},
   "source": [
    "Описание полей\n",
    "\n",
    "InvoiceNo: номер транзакции\n",
    "\n",
    "StockCode: код продукта\n",
    "\n",
    "Description: описание продукта\n",
    "\n",
    "Quantity: кол-во элементов в транзакции\n",
    "\n",
    "InvoiceDate: дата\n",
    "\n",
    "CustomerID: пользователь"
   ]
  },
  {
   "cell_type": "code",
   "execution_count": 3,
   "id": "46b1ef30-376c-4a2c-8d9e-417418aaadb0",
   "metadata": {},
   "outputs": [],
   "source": [
    "# Удалим пустые значения\n",
    "df.dropna(inplace=True)"
   ]
  },
  {
   "cell_type": "code",
   "execution_count": 4,
   "id": "dbe340eb-a607-4d35-af88-5f2fc84471c6",
   "metadata": {},
   "outputs": [],
   "source": [
    "df['StockCode'] = df['StockCode'].astype(str)"
   ]
  },
  {
   "cell_type": "code",
   "execution_count": 5,
   "id": "e84fbf05-c6cc-4a82-8e81-cfcd3c558d43",
   "metadata": {},
   "outputs": [],
   "source": [
    "customers = set(df['CustomerID'])\n",
    "customers = list(customers)"
   ]
  },
  {
   "cell_type": "code",
   "execution_count": 6,
   "id": "3e22de7a-bd2a-4764-8195-22dfb4bd5612",
   "metadata": {},
   "outputs": [
    {
     "name": "stdout",
     "output_type": "stream",
     "text": [
      "3935\n"
     ]
    }
   ],
   "source": [
    "# рандомно определим наборы для обучения и теста\n",
    "customers_train = random.sample(customers, (round(len(customers)*.9)))\n",
    "print(len(customers_train))\n",
    "\n",
    "train_df = df[df['CustomerID'].isin(customers_train)]\n",
    "test_df = df[~df['CustomerID'].isin(customers_train)]"
   ]
  },
  {
   "cell_type": "code",
   "execution_count": 7,
   "id": "c804dc70-efb9-473d-ad7c-1c92d6dd3af1",
   "metadata": {},
   "outputs": [
    {
     "name": "stderr",
     "output_type": "stream",
     "text": [
      "100%|████████████████████████████████████████████████████████████████████████████| 3935/3935 [00:02<00:00, 1322.42it/s]\n"
     ]
    }
   ],
   "source": [
    "# история покупок для обучающей выборки\n",
    "purchases_train = []\n",
    "\n",
    "for i in tqdm(customers_train):\n",
    "    in_training = train_df[train_df['CustomerID'] == i]['StockCode'].tolist()\n",
    "    purchases_train.append(in_training)"
   ]
  },
  {
   "cell_type": "code",
   "execution_count": 8,
   "id": "36791563-3927-4bb3-96f5-edb01c949217",
   "metadata": {},
   "outputs": [
    {
     "name": "stderr",
     "output_type": "stream",
     "text": [
      "100%|██████████████████████████████████████████████████████████████████████████████| 437/437 [00:00<00:00, 2012.85it/s]\n"
     ]
    }
   ],
   "source": [
    "# история покупок для обучающей тестовой выборки\n",
    "purchases_test = []\n",
    "\n",
    "for i in tqdm(test_df['CustomerID'].unique()):\n",
    "    in_training = test_df[test_df['CustomerID'] == i]['StockCode'].tolist()\n",
    "    purchases_test.append(in_training)"
   ]
  },
  {
   "cell_type": "code",
   "execution_count": 10,
   "id": "6a89a8f7-ea0c-4a11-b119-2325b713a49d",
   "metadata": {},
   "outputs": [
    {
     "data": {
      "text/plain": [
       "(3591465, 3629410)"
      ]
     },
     "execution_count": 10,
     "metadata": {},
     "output_type": "execute_result"
    }
   ],
   "source": [
    "#  W2V\n",
    "model = Word2Vec(window=10, sg=1, hs=0, negative=10, alpha=0.03, min_alpha=0.0007, seed=4)\n",
    "\n",
    "model.build_vocab(purchases_train, progress_per=200)\n",
    "\n",
    "model.train(purchases_train, total_examples=model.corpus_count, epochs=10, report_delay=1)"
   ]
  },
  {
   "cell_type": "code",
   "execution_count": 11,
   "id": "9a73ffb0-280c-4bfa-a055-530a78c5c45c",
   "metadata": {},
   "outputs": [],
   "source": [
    "products = train_df[[\"StockCode\", \"Description\"]]\n",
    "\n",
    "# удалим дубликаты в данных\n",
    "products.drop_duplicates(inplace=True, subset='StockCode', keep=\"last\")\n",
    "\n",
    "# cоздадим единый словарь\n",
    "products_dict = products.groupby('StockCode')['Description'].apply(list).to_dict()"
   ]
  },
  {
   "cell_type": "code",
   "execution_count": 12,
   "id": "1d6ca1b6-49aa-46eb-ad85-9188117ef197",
   "metadata": {},
   "outputs": [
    {
     "data": {
      "text/plain": [
       "['RED WOOLLY HOTTIE WHITE HEART.']"
      ]
     },
     "execution_count": 12,
     "metadata": {},
     "output_type": "execute_result"
    }
   ],
   "source": [
    "products_dict['84029E']"
   ]
  },
  {
   "cell_type": "markdown",
   "id": "2a665397-1390-451e-b486-aec6cb96d952",
   "metadata": {},
   "source": [
    "### поиск схожих элементов"
   ]
  },
  {
   "cell_type": "code",
   "execution_count": 13,
   "id": "083f7375-65a6-499f-8f39-5f145b89c04d",
   "metadata": {},
   "outputs": [],
   "source": [
    "def similar_products(v, n = 6):\n",
    "    \n",
    "    # извлечение наиболее похожих элементов\n",
    "    ms = model.wv.similar_by_vector(v, topn= n+1)[1:]\n",
    "    \n",
    "    # имена и значения схожести\n",
    "    new_ms = []\n",
    "    for j in ms:\n",
    "        \n",
    "        pair = (j, products_dict[j[0]][0], j[1])\n",
    "        new_ms.append(pair)\n",
    "        \n",
    "    return new_ms   "
   ]
  },
  {
   "cell_type": "code",
   "execution_count": 14,
   "id": "c93c3403-fa0c-4a7f-b2cb-af24616477a4",
   "metadata": {},
   "outputs": [],
   "source": [
    "def aggregate_vectors(products):\n",
    "    product_vec = []\n",
    "    for i in products:\n",
    "        try:\n",
    "            product_vec.append(model.wv[i])\n",
    "        except KeyError:\n",
    "            continue\n",
    "        \n",
    "    return np.mean(product_vec, axis=0)"
   ]
  },
  {
   "cell_type": "code",
   "execution_count": 15,
   "id": "e6b935df-60f4-4da4-88bc-578a2be0e45e",
   "metadata": {},
   "outputs": [
    {
     "data": {
      "text/plain": [
       "[(('22734', 0.701832115650177),\n",
       "  'SET OF 6 RIBBONS VINTAGE CHRISTMAS',\n",
       "  0.701832115650177),\n",
       " (('22910', 0.694189727306366),\n",
       "  'PAPER CHAIN KIT VINTAGE CHRISTMAS',\n",
       "  0.694189727306366),\n",
       " (('23319', 0.6877208352088928),\n",
       "  \"BOX OF 6 MINI 50'S CRACKERS\",\n",
       "  0.6877208352088928),\n",
       " (('22950', 0.6817300915718079),\n",
       "  '36 DOILIES VINTAGE CHRISTMAS',\n",
       "  0.6817300915718079),\n",
       " (('22423', 0.6748690605163574),\n",
       "  'REGENCY CAKESTAND 3 TIER',\n",
       "  0.6748690605163574),\n",
       " (('23234', 0.6715929508209229),\n",
       "  'BISCUIT TIN VINTAGE CHRISTMAS',\n",
       "  0.6715929508209229)]"
      ]
     },
     "execution_count": 15,
     "metadata": {},
     "output_type": "execute_result"
    }
   ],
   "source": [
    "similar_products(aggregate_vectors(purchases_test[0]))"
   ]
  },
  {
   "cell_type": "markdown",
   "id": "fdea66d3-227f-4400-ad81-2385ef2e334a",
   "metadata": {},
   "source": [
    "### Визуализация объектов"
   ]
  },
  {
   "cell_type": "code",
   "execution_count": 17,
   "id": "7a8c7d01-1569-4136-88f8-2aeb3884743e",
   "metadata": {},
   "outputs": [
    {
     "name": "stdout",
     "output_type": "stream",
     "text": [
      "word_vectors_matrix shape is  (10000, 100)\n"
     ]
    }
   ],
   "source": [
    "count = 10000\n",
    "word_vectors_matrix = np.ndarray(shape=(count, 100), dtype='float64')\n",
    "word_list = []\n",
    "i = 0\n",
    "for word in model.wv.key_to_index.keys():\n",
    "    word_vectors_matrix[i] = model.wv[word]\n",
    "    word_list.append(word)\n",
    "    i = i+1\n",
    "    if i == count:\n",
    "        break\n",
    "print(\"word_vectors_matrix shape is \", word_vectors_matrix.shape)"
   ]
  },
  {
   "cell_type": "code",
   "execution_count": 18,
   "id": "cb2eeccd-d7e1-4fda-b0f1-6b9c93b36b73",
   "metadata": {},
   "outputs": [
    {
     "name": "stdout",
     "output_type": "stream",
     "text": [
      "word_vectors_matrix_2d shape is  (10000, 2)\n"
     ]
    }
   ],
   "source": [
    "# Создание 2Д пространства для объектов\n",
    "\n",
    "tsne = sklearn.manifold.TSNE(n_components=2, random_state=0)\n",
    "word_vectors_matrix_2d = tsne.fit_transform(word_vectors_matrix)\n",
    "print(\"word_vectors_matrix_2d shape is \", word_vectors_matrix_2d.shape)"
   ]
  },
  {
   "cell_type": "code",
   "execution_count": 19,
   "id": "b06e0a0c-6d51-413e-9f92-8405878edfa6",
   "metadata": {},
   "outputs": [],
   "source": [
    "points = pd.DataFrame(\n",
    "    [\n",
    "        (word, coords[0], coords[1]) \n",
    "        for word, coords in [\n",
    "            (word, word_vectors_matrix_2d[word_list.index(word)])\n",
    "            for word in word_list\n",
    "        ]\n",
    "    ],\n",
    "    columns=[\"word\", \"x\", \"y\"]\n",
    ")"
   ]
  },
  {
   "cell_type": "code",
   "execution_count": 20,
   "id": "4d7f5dfa-a785-47f8-a361-d96e3ef7ba65",
   "metadata": {},
   "outputs": [
    {
     "data": {
      "text/plain": [
       "<AxesSubplot:xlabel='x', ylabel='y'>"
      ]
     },
     "execution_count": 20,
     "metadata": {},
     "output_type": "execute_result"
    },
    {
     "data": {
      "image/png": "[encoded data removed]",
      "text/plain": [
       "<Figure size 1440x864 with 1 Axes>"
      ]
     },
     "metadata": {
      "needs_background": "light"
     },
     "output_type": "display_data"
    }
   ],
   "source": [
    "points.plot.scatter(\"x\", \"y\", s=10, figsize=(20, 12))"
   ]
  },
  {
   "cell_type": "code",
   "execution_count": 21,
   "id": "5b3a4a4c-3683-4f28-8896-5896d0cd065b",
   "metadata": {},
   "outputs": [],
   "source": [
    "def plot_region(x_bounds, y_bounds):\n",
    "    slice = points[\n",
    "        (x_bounds[0] <= points.x) & (points.x <= x_bounds[1]) &\n",
    "        (y_bounds[0] <= points.y) & (points.y <= y_bounds[1]) \n",
    "    ]\n",
    "    \n",
    "    ax = slice.plot.scatter(\"x\", \"y\", s=35, figsize=(12, 8))\n",
    "    for i, point in slice.iterrows():\n",
    "        ax.text(point.x + 0.005, point.y + 0.005, point.word, fontsize=11)"
   ]
  },
  {
   "cell_type": "code",
   "execution_count": 22,
   "id": "71dbe7b7-857e-4905-9985-0dc62e54136e",
   "metadata": {},
   "outputs": [
    {
     "data": {
      "image/png": "[encoded data removed]",
      "text/plain": [
       "<Figure size 864x576 with 1 Axes>"
      ]
     },
     "metadata": {
      "needs_background": "light"
     },
     "output_type": "display_data"
    }
   ],
   "source": [
    "# вывод отдельной области элементов\n",
    "\n",
    "# меньше / больше\n",
    "\n",
    "plot_region(x_bounds=(-16, -14), y_bounds=(-2, 2))"
   ]
  },
  {
   "cell_type": "code",
   "execution_count": 24,
   "id": "b87cf651-b6d4-4cef-8b2d-16c51ac07b8a",
   "metadata": {},
   "outputs": [
    {
     "data": {
      "text/plain": [
       "[(('23033', 0.8450888395309448),\n",
       "  'DRAWER KNOB CERAMIC RED',\n",
       "  0.8450888395309448),\n",
       " (('23034', 0.7352439165115356),\n",
       "  'DRAWER KNOB CERAMIC BLACK',\n",
       "  0.7352439165115356),\n",
       " (('23032', 0.7209578156471252),\n",
       "  'DRAWER KNOB CRACKLE GLAZE IVORY',\n",
       "  0.7209578156471252),\n",
       " (('23025', 0.7175209522247314),\n",
       "  'DRAWER KNOB VINTAGE GLASS BALL',\n",
       "  0.7175209522247314),\n",
       " (('23029', 0.7098231315612793),\n",
       "  'DRAWER KNOB CRACKLE GLAZE GREEN',\n",
       "  0.7098231315612793),\n",
       " (('23028', 0.7075046300888062),\n",
       "  'DRAWER KNOB CRACKLE GLAZE BLUE',\n",
       "  0.7075046300888062)]"
      ]
     },
     "execution_count": 24,
     "metadata": {},
     "output_type": "execute_result"
    }
   ],
   "source": [
    "similar_products(model.wv['23035'])"
   ]
  },
  {
   "cell_type": "markdown",
   "id": "8b811915-dc55-4df3-beb2-99014097e777",
   "metadata": {},
   "source": [
    "### более знакомый вариант поиска схожести"
   ]
  },
  {
   "cell_type": "code",
   "execution_count": 25,
   "id": "6b031d02-94c3-449a-acf5-2d5ae0564f8f",
   "metadata": {},
   "outputs": [],
   "source": [
    "def cosine_distance(vec1, vec2):\n",
    "    return np.dot(vec1, vec2)/(np.linalg.norm(vec1)*np.linalg.norm(vec2))"
   ]
  },
  {
   "cell_type": "code",
   "execution_count": 26,
   "id": "c36fab43-31c6-4b7d-a0d0-2a0231276a0a",
   "metadata": {},
   "outputs": [],
   "source": [
    "def compute_similarity(model, topn=5, input_key=None, product_vec=None):\n",
    "    all_similarities = []\n",
    "    if not input_key and product_vec is None : return 0\n",
    "\n",
    "    elif product_vec is None:\n",
    "        product_vec = model.wv[input_key]\n",
    "    \n",
    "    for key, product_name in all_products.items():\n",
    "        try:\n",
    "            dist = cosine_distance(product_vec, model.wv[key])\n",
    "            if dist != 1: all_similarities.append((product_name, dist))\n",
    "        except:\n",
    "            pass\n",
    "        \n",
    "    return sorted(all_similarities, key=lambda x: x[1], reverse=True)[:topn]"
   ]
  },
  {
   "cell_type": "code",
   "execution_count": 27,
   "id": "a8232fbb-938a-4946-aca8-1e2543248056",
   "metadata": {},
   "outputs": [],
   "source": [
    "def seq_avg_vector(products):\n",
    "    avg_vec = []\n",
    "    for product in products:\n",
    "        try:\n",
    "            avg_vec.append(model.wv[product])\n",
    "        except:\n",
    "            pass\n",
    "        \n",
    "    return np.mean(avg_vec, axis=0)"
   ]
  },
  {
   "cell_type": "code",
   "execution_count": 30,
   "id": "207e2179-0f42-4d66-9915-0aed2fdbcbe7",
   "metadata": {},
   "outputs": [],
   "source": [
    "def product_recommender(model, key, nb=3):\n",
    "    print(f'Для продукта t \"{all_products[key]}\" созданы рекомендации :')\n",
    "    recommendations = compute_similarity(model, input_key=key, topn=nb)\n",
    "    for item in recommendations:\n",
    "        print(f'\\t - {item[0]}')\n",
    "     "
   ]
  },
  {
   "cell_type": "code",
   "execution_count": 31,
   "id": "9fe93d4f-feea-4566-b5ad-47a9f506c3cf",
   "metadata": {},
   "outputs": [],
   "source": [
    "def sequence_recommender(model, orders_list, nb=3):\n",
    "    print(\"Продукты покупаемые в последовательности :\")\n",
    "    for item in orders_list:\n",
    "        print(all_products[item])\n",
    "    \n",
    "    print(f'\\nБазируясь на истории покупок, можно создать последовательность рекомендаций :')\n",
    "    recommendations = compute_similarity(model, product_vec=seq_avg_vector(orders_list), topn=nb)\n",
    "    for item in recommendations:\n",
    "        print(f'\\t - {item[0]}')"
   ]
  },
  {
   "cell_type": "code",
   "execution_count": 32,
   "id": "62dbc5b9-bf1a-4246-b37f-aa01cbda8689",
   "metadata": {},
   "outputs": [
    {
     "name": "stdout",
     "output_type": "stream",
     "text": [
      "Для продукта t \"CHILDRENS CUTLERY SPACEBOY \" созданы рекомендации :\n",
      "\t - CHILDRENS CUTLERY DOLLY GIRL \n",
      "\t - CHILDRENS CUTLERY CIRCUS PARADE\n",
      "\t - PINK 3 PIECE POLKADOT CUTLERY SET\n"
     ]
    }
   ],
   "source": [
    "all_products = df.groupby(\"StockCode\")[\"Description\"].unique().apply(lambda x: x[0]).to_dict()\n",
    "product_recommender(model,'23256')"
   ]
  },
  {
   "cell_type": "code",
   "execution_count": 33,
   "id": "3c472b14-5dca-4080-b493-0ca59d96214f",
   "metadata": {},
   "outputs": [
    {
     "name": "stdout",
     "output_type": "stream",
     "text": [
      "Для продукта t \"SMALL PARLOUR PICTURE FRAME\" созданы рекомендации :\n",
      "\t - MEDIUM PARLOUR PICTURE FRAME \n",
      "\t - LARGE PARLOUR PICTURE FRAME\n",
      "\t - SET OF 3 MINI HANGING PORTRAITS\n"
     ]
    }
   ],
   "source": [
    "product_recommender(model,'23455')"
   ]
  },
  {
   "cell_type": "code",
   "execution_count": null,
   "id": "fb11535b-bb64-4a9e-b538-7c2f37d0fb67",
   "metadata": {},
   "outputs": [],
   "source": []
  }
 ],
 "metadata": {
  "kernelspec": {
   "display_name": "Python 3 (ipykernel)",
   "language": "python",
   "name": "python3"
  },
  "language_info": {
   "codemirror_mode": {
    "name": "ipython",
    "version": 3
   },
   "file_extension": ".py",
   "mimetype": "text/x-python",
   "name": "python",
   "nbconvert_exporter": "python",
   "pygments_lexer": "ipython3",
   "version": "3.8.10"
  }
 },
 "nbformat": 4,
 "nbformat_minor": 5
}
