{
 "cells": [
  {
   "cell_type": "markdown",
   "metadata": {},
   "source": [
    "# Singular Value Decomposition (CF)"
   ]
  },
  {
   "cell_type": "markdown",
   "metadata": {},
   "source": [
    "CF в любом из вариантов (**user-based** / **item-based**) имеет проблемы, если матрица сильно разрежена, а также имеет проблему масштабируемости. Это не позволяет использовать решения на основе CF на очень больших данных. \n",
    "\n",
    "Описание проблемы разреженности  [Sarwar et al. (2000)](http://files.grouplens.org/papers/webKDD00.pdf), где предлагается *Singular Value Decomposition (SVD)* для решения.\n",
    "\n",
    "---\n",
    "\n",
    "### Как?\n",
    "\n",
    "SVD разкладывает матрицу размера $m\\times n$ в матрицы $P$, $\\Sigma$ и $Q$:\n",
    "\n",
    "\\begin{equation}\n",
    "R = P\\Sigma Q^{\\top}.\n",
    "\\end{equation}\n",
    "\n",
    "$P$ и $Q$ это ортогональные матрицы и $\\Sigma$ диагональная матрица состоящая из сингулярных значений рейтингов в качестве диагональных значений ([Billsus and Pazzani, 1998](https://www.ics.uci.edu/~pazzani/Publications/MLC98.pdf), [Sarwar et al. (2000)](http://files.grouplens.org/papers/webKDD00.pdf)).\n",
    "\n",
    "![](img/svd.png)\n",
    "\n",
    "Матрица рейтингов рассчитывается: \n",
    "\n",
    "\\begin{equation}\n",
    "R_k = P_k\\Sigma_k Q_k^{\\top}.\n",
    "\\end{equation}\n",
    "\n",
    "\n",
    "---\n",
    "\n",
    "### SVD \n",
    "\n",
    "> 1. Нормализованная матрица $R_{norm}$ раскладывается на $P$, $\\Sigma$ и $Q$\n",
    "> 2. Уменьшаем $\\Sigma$ до размерности $k$ и трансформируем в $\\Sigma_k$\n",
    "> 3. Считаем квадратный корень из $\\Sigma_k$ для получения $\\Sigma_k^{\\frac{1}{2}}$\n",
    "> 4. Считаем финальную матрицу $P_k\\Sigma_k^{\\frac{1}{2}}$ и $\\Sigma_k^{\\frac{1}{2}}Q_k^{\\top}$, которая будет использоваться для расчета рекомендаций.\n",
    "\n",
    "---\n"
   ]
  },
  {
   "cell_type": "code",
   "execution_count": 1,
   "metadata": {},
   "outputs": [],
   "source": [
    "from sklearn.neighbors import NearestNeighbors\n",
    "from sklearn.model_selection import train_test_split as sklearn_train_test_split\n",
    "from sklearn.preprocessing import LabelEncoder\n",
    "from scipy.sparse import csr_matrix\n",
    "\n",
    "import pandas as pd\n",
    "import numpy as np\n",
    "import zipfile\n",
    "\n",
    "import os\n",
    "import sys"
   ]
  },
  {
   "cell_type": "code",
   "execution_count": null,
   "metadata": {},
   "outputs": [],
   "source": [
    "import warnings\n",
    "warnings.filterwarnings('ignore')"
   ]
  },
  {
   "cell_type": "code",
   "execution_count": null,
   "metadata": {},
   "outputs": [],
   "source": [
    "ratings = pd.read_csv('ratings.csv')\n",
    "movies = pd.read_csv('movies.csv')"
   ]
  },
  {
   "cell_type": "code",
   "execution_count": null,
   "metadata": {},
   "outputs": [],
   "source": [
    "pd.crosstab(ratings.userId, ratings.movieId, ratings.rating, aggfunc=sum)"
   ]
  },
  {
   "cell_type": "code",
   "execution_count": null,
   "metadata": {},
   "outputs": [],
   "source": [
    "def rating_matrix(ratings):\n",
    "    \"\"\"\n",
    "    1. Запоним NaN средним рейтингом\n",
    "    2. Нормализуем рейтинг относительно среднего значения\n",
    "    \n",
    "    :param ratings : DataFrame\n",
    "    :return\n",
    "        - R : Numpy array рейтингов\n",
    "        - df : DataFrame рейтингов\n",
    "    \"\"\"\n",
    "    \n",
    "    # средний рейтинг\n",
    "    umean = # ваш код\n",
    "    \n",
    "    # создаем матрицу и заполняем средний с параметром axis =0 пустые значения\n",
    "    df = # ваш код\n",
    "    df = # ваш код\n",
    "    \n",
    "    # нормализация по среднему значению\n",
    "    df = # ваш код\n",
    "    \n",
    "    # в numpy\n",
    "    R = df.to_numpy()\n",
    "    \n",
    "    return R, df\n",
    "\n",
    "# записываем результат\n",
    "R, df = rating_matrix(ratings)"
   ]
  },
  {
   "cell_type": "markdown",
   "metadata": {},
   "source": [
    "$R$ готовая матрица для применения"
   ]
  },
  {
   "cell_type": "code",
   "execution_count": null,
   "metadata": {},
   "outputs": [],
   "source": [
    "df"
   ]
  },
  {
   "cell_type": "markdown",
   "metadata": {},
   "source": [
    "### SVD\n",
    "\n",
    "\n",
    "1. ```fit()``` - расчет SVD рейтингов и сохранение матриц P, S, Q\n",
    "2. ```predict()``` - матрицы P, S и Qh для создания предикта по пользователю - элементу. Учитывая, что мы сделали вычитание фактического рейтинга из среднего по пользователю, нам необходимо будет вернуть значение, прибавив предикт к среднему рейтингу\n",
    "3. ```recommend()``` - функция рекомендаций"
   ]
  },
  {
   "cell_type": "code",
   "execution_count": null,
   "metadata": {},
   "outputs": [],
   "source": [
    "class SVD:\n",
    "    \n",
    "    def __init__(self, umeam):\n",
    "        \"\"\"\n",
    "        :param\n",
    "            - umean : среднее значение рейтингов по пользователю\n",
    "        \"\"\"\n",
    "        self.umean = umean.to_numpy()\n",
    "        \n",
    "        # init svd \n",
    "        self.P = np.array([])\n",
    "        self.S = np.array([])\n",
    "        self.Qh = np.array([])\n",
    "        \n",
    "        # init пользователь и элемент\n",
    "        self.u_factors = np.array([])\n",
    "        self.i_factors = np.array([])\n",
    "    \n",
    "    def fit(self, R):\n",
    "        \"\"\"\n",
    "        Fit  SVD\n",
    "        \"\"\"\n",
    "        P, s, Qh = np.linalg.svd(R, full_matrices=False)\n",
    "        \n",
    "        self.P = P\n",
    "        self.S = np.diag(s)\n",
    "        self.Qh = Qh\n",
    "        \n",
    "        # скрытые факторы по пользователю (u_factors) и по элементу (i_factors)\n",
    "        self.u_factors = # ваш код факторов по пользователю \n",
    "        self.i_factors = # ваш код факторов по элементу \n",
    "    \n",
    "    def predict(self, userid, itemid):\n",
    "        \"\"\"\n",
    "        Предикт по пользователю\n",
    "        \n",
    "        :param\n",
    "            - userid : пользователь\n",
    "            - itemid : элемент\n",
    "            \n",
    "        :return\n",
    "            - r_hat : predicted rating\n",
    "        \"\"\"\n",
    "        \n",
    "        # предикт вычисляется по факторам пользователя и элемента\n",
    "        r_hat = # примените функцию из numpy для получения суммы по всем факторам (векторам)\n",
    "        \n",
    "        # суммируем со средним значением\n",
    "        r_hat += self.umean[userid]\n",
    "        \n",
    "        return r_hat\n",
    "        \n",
    "    \n",
    "    def recommend(self, userid):\n",
    "        \"\"\"\n",
    "        :param\n",
    "            - userid : id пользователя\n",
    "        \"\"\"\n",
    "        \n",
    "        # предикт для пользователя по факторам     \n",
    "        predictions = # примените функцию из numpy для получения суммы по всем факторам (векторам), не забудьте прибавить среднее значение\n",
    "        \n",
    "        # сортировка результата\n",
    "        top_idx = np.flip(np.argsort(predictions))\n",
    "        preds = predictions[top_idx]\n",
    "        \n",
    "        return top_idx, preds\n",
    "        "
   ]
  },
  {
   "cell_type": "markdown",
   "metadata": {},
   "source": [
    "Создадим SVD модель\n",
    "\n",
    "Передадим средний рейтинг, как базовый элемент"
   ]
  },
  {
   "cell_type": "code",
   "execution_count": null,
   "metadata": {},
   "outputs": [],
   "source": [
    "umean = ratings.groupby(by='userId')['rating'].mean()\n",
    "\n",
    "# svd\n",
    "svd = SVD(umean)\n",
    "\n",
    "# fit\n",
    "svd.fit(R)"
   ]
  },
  {
   "cell_type": "markdown",
   "metadata": {},
   "source": [
    "### Предикт рейтинга"
   ]
  },
  {
   "cell_type": "code",
   "execution_count": null,
   "metadata": {},
   "outputs": [],
   "source": [
    "ratings.head(10)"
   ]
  },
  {
   "cell_type": "code",
   "execution_count": null,
   "metadata": {},
   "outputs": [],
   "source": [
    "# для кого делаем предикт\n",
    "userid = 1\n",
    "\n",
    "# какие элементы подбираем\n",
    "items = [1,3,6,47,50,70,101,110,151,157]\n",
    "\n",
    "# формирование предикта\n",
    "for itemid in items:\n",
    "    r = svd.predict(userid=userid, itemid=itemid)\n",
    "    print('предикт для пользователя ={} по элементу ={} : {}'.format(userid, itemid, r))"
   ]
  },
  {
   "cell_type": "markdown",
   "metadata": {},
   "source": [
    "### Создание рекомендаций"
   ]
  },
  {
   "cell_type": "code",
   "execution_count": null,
   "metadata": {},
   "outputs": [],
   "source": [
    "userid = 1\n",
    "\n",
    "# сортировка предикта\n",
    "top_indx, preds = svd.recommend(userid=userid)\n",
    "\n",
    "rec_movies = movies[movies['movieId'].isin(top_indx)]\n",
    "\n",
    "# списко элементов, которые пользователь отметил рейтингом\n",
    "uitems = ratings.loc[ratings.userId == userid].movieId.to_list()\n",
    "\n",
    "# убираем фильмы уже оцененные пользователем\n",
    "top10 = np.setdiff1d(top_indx, uitems, assume_unique=True)[:10]\n",
    "\n",
    "# топ - N\n",
    "top10_idx = list(np.where(top_indx == idx)[0][0] for idx in top10)\n",
    "top10_predictions = preds[top10_idx]\n",
    "\n",
    "# добавляем название и жанр\n",
    "zipped_top10 = list(zip(top10,top10_predictions))\n",
    "top10 = pd.DataFrame(zipped_top10, columns=['movieId','predictions'])\n",
    "List = pd.merge(top10, movies, on='movieId', how='inner')\n",
    "\n",
    "List"
   ]
  }
 ],
 "metadata": {
  "kernelspec": {
   "display_name": "Python 3 (ipykernel)",
   "language": "python",
   "name": "python3"
  },
  "language_info": {
   "codemirror_mode": {
    "name": "ipython",
    "version": 3
   },
   "file_extension": ".py",
   "mimetype": "text/x-python",
   "name": "python",
   "nbconvert_exporter": "python",
   "pygments_lexer": "ipython3",
   "version": "3.8.10"
  }
 },
 "nbformat": 4,
 "nbformat_minor": 4
}
